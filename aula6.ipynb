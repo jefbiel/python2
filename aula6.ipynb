{
 "cells": [
  {
   "cell_type": "code",
   "execution_count": 1,
   "metadata": {},
   "outputs": [],
   "source": [
    "def quadrado (x):\n",
    "    y= x*x\n",
    "    return y"
   ]
  },
  {
   "cell_type": "code",
   "execution_count": null,
   "metadata": {},
   "outputs": [],
   "source": [
    "def soma_quadrado(x, y, z):\n",
    "    a = quadrado(x)\n",
    "    b = quadrado(y)\n",
    "    c = quadrado(z)\n",
    "    return a + b + c\n",
    "\n",
    " "
   ]
  },
  {
   "cell_type": "code",
   "execution_count": 5,
   "metadata": {},
   "outputs": [
    {
     "name": "stdout",
     "output_type": "stream",
     "text": [
      "150\n"
     ]
    }
   ],
   "source": [
    "lista = [10 ,20 ,30 ,40 ,50]\n",
    "def soma(lista):\n",
    "    a = sum(lista)\n",
    "    return a\n",
    "\n",
    "def media():\n",
    "    soma = soma(lista)\n",
    "    media = soma(list)/len(list)\n",
    "    return media\n",
    "\n",
    "resultado = soma(lista)\n",
    "print(resultado)"
   ]
  },
  {
   "cell_type": "code",
   "execution_count": 2,
   "metadata": {},
   "outputs": [
    {
     "name": "stdout",
     "output_type": "stream",
     "text": [
      "O desconto do funcionário é de R$ 1000.0\n",
      "O salário líquido a receber é de R$ 4000.0\n"
     ]
    }
   ],
   "source": [
    "def calcular_desconto(salario):\n",
    "    if salario <= 2000:\n",
    "        desconto = salario * 0.1\n",
    "    elif salario <= 4800:\n",
    "        desconto = salario * 0.15\n",
    "    elif salario <= 6000:\n",
    "        desconto = salario * 0.2\n",
    "    else:\n",
    "        desconto = salario * 0.3\n",
    "    return desconto\n",
    "\n",
    "def calcular_salario_liquido(salario, desconto):\n",
    "    salario_liquido = salario - desconto\n",
    "    return salario_liquido\n",
    "\n",
    "def main():\n",
    "    salario = float(input(\"Digite o salário do funcionário: \"))\n",
    "    desconto = calcular_desconto(salario)\n",
    "    salario_liquido = calcular_salario_liquido(salario, desconto)\n",
    "    print(\"O desconto do funcionário é de R$\", desconto)\n",
    "    print(\"O salário líquido a receber é de R$\", salario_liquido)\n",
    "\n",
    "main()"
   ]
  },
  {
   "cell_type": "code",
   "execution_count": 9,
   "metadata": {},
   "outputs": [
    {
     "name": "stdout",
     "output_type": "stream",
     "text": [
      "A área do círculo é: 78.53975\n",
      "Este é um Círculo Médio\n"
     ]
    }
   ],
   "source": [
    "def calcular_area(raio):\n",
    "    return 3.14159 * raio ** 2\n",
    "\n",
    "def classificar_area(area):\n",
    "    if area > 100:\n",
    "        return \"Círculo Grande\"\n",
    "    elif area > 50:\n",
    "        return \"Círculo Médio\"\n",
    "    else:\n",
    "        return \"Círculo Pequeno\"\n",
    "\n",
    "def main():\n",
    "    raio = float(input(\"Qual é o raio do círculo: \"))\n",
    "    area = calcular_area(raio)\n",
    "    classificacao = classificar_area(area)\n",
    "    print(\"A área do círculo é:\", area)\n",
    "    print(\"Este é um\", classificacao)\n",
    "\n",
    "main()"
   ]
  },
  {
   "cell_type": "code",
   "execution_count": 13,
   "metadata": {},
   "outputs": [
    {
     "name": "stdout",
     "output_type": "stream",
     "text": [
      "Resultados de cada índice: [5, 12, 21, 32]\n",
      "Resultado total da multiplicação: 32\n"
     ]
    }
   ],
   "source": [
    "def multiplicar_listas(lista1, lista2):\n",
    "    produtos = []\n",
    "    for i in range(len(lista1)):\n",
    "        produtos.append(lista1[i] * lista2[i])\n",
    "    return produtos\n",
    "\n",
    "def multiplicar_valores(lista1, lista2):\n",
    "    resultado = 1\n",
    "    for i in range(len(lista1)):\n",
    "        resultado = lista1[i] * lista2[i]\n",
    "    return resultado\n",
    "\n",
    "\n",
    "lista1 = [1, 2, 3, 4]\n",
    "lista2 = [5, 6, 7, 8]\n",
    "\n",
    "produtos = multiplicar_listas(lista1, lista2)\n",
    "print(\"Resultados de cada índice:\", produtos)\n",
    "\n",
    "resultado_total = multiplicar_valores(lista1, lista2)\n",
    "print(\"Resultado total da multiplicação:\", resultado_total) "
   ]
  },
  {
   "cell_type": "code",
   "execution_count": null,
   "metadata": {},
   "outputs": [],
   "source": [
    "def somar(a,b)\n",
    "    return a + b\n",
    "\n",
    "def subtrair(a,b)\n",
    "    return a - b\n",
    "\n",
    "def multipliocar(a,b)\n",
    "    return a * b\n",
    "\n",
    "def dividir(a,b)\n",
    "    return a / b\n",
    "\n",
    "def calcular(opercoes):\n",
    "    resultado = [ ]\n",
    "    for op, a, b in opercoes:\n",
    "        if op == '+':\n",
    "            resultados.append(somar(a,b))\n",
    "\n",
    "        elif op == '-':\n",
    "            resultados.append(subtrair(a,b))\n",
    "\n",
    "        elif op == '*':\n",
    "            resultados.append(multiplicar(a,b))\n",
    "\n",
    "        elif op == '/':\n",
    "            resultados.append(duvidir(a,b))\n",
    "    \n",
    "    return resultados\n",
    "\n",
    "expressoes = []\n",
    "resultados =  calcular(expressoes)\n",
    "print('Resultado das expressões')\n",
    "\n",
    "\n",
    "\n",
    "    "
   ]
  }
 ],
 "metadata": {
  "kernelspec": {
   "display_name": "Python 3",
   "language": "python",
   "name": "python3"
  },
  "language_info": {
   "codemirror_mode": {
    "name": "ipython",
    "version": 3
   },
   "file_extension": ".py",
   "mimetype": "text/x-python",
   "name": "python",
   "nbconvert_exporter": "python",
   "pygments_lexer": "ipython3",
   "version": "3.11.4"
  },
  "orig_nbformat": 4
 },
 "nbformat": 4,
 "nbformat_minor": 2
}
