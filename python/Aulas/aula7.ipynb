{
 "cells": [
  {
   "attachments": {},
   "cell_type": "markdown",
   "metadata": {},
   "source": [
    "## Função quadrada\n",
    "\n",
    "#### Criar  função \n",
    "#### Criar um var y, que irá multiplicar a var X x X, ou X^2 \n",
    "#### retorna y"
   ]
  },
  {
   "cell_type": "code",
   "execution_count": 8,
   "metadata": {},
   "outputs": [
    {
     "name": "stdout",
     "output_type": "stream",
     "text": [
      "4\n",
      "16\n",
      "36\n"
     ]
    }
   ],
   "source": [
    "def quadrado(x):\n",
    "    y = x**2\n",
    "    return y\n",
    "\n",
    "print(quadrado(2))\n",
    "print(quadrado(4))\n",
    "print(quadrado(6))"
   ]
  },
  {
   "attachments": {},
   "cell_type": "markdown",
   "metadata": {},
   "source": [
    "## Função soma quadrado\n",
    "\n",
    "#### cria a função soma quadrado com 3 paramentros (x,y,z)\n",
    "#### crie 3 var e chame a funcao quadrado\n",
    "#### retorne a+b+c, a= quadrado(y)"
   ]
  },
  {
   "cell_type": "code",
   "execution_count": 9,
   "metadata": {},
   "outputs": [
    {
     "name": "stdout",
     "output_type": "stream",
     "text": [
      "56\n",
      "149\n",
      "108\n"
     ]
    }
   ],
   "source": [
    "def soma_quadrado(x, y, z):\n",
    "    a = quadrado(x)\n",
    "    b = quadrado(y)\n",
    "    c = quadrado(z)\n",
    "\n",
    "    return a + b+ c\n",
    "\n",
    "print(soma_quadrado(2, 4, 6))\n",
    "print(soma_quadrado(6, 7, 8))\n",
    "print(soma_quadrado(2, 10, 2))"
   ]
  },
  {
   "attachments": {},
   "cell_type": "markdown",
   "metadata": {},
   "source": [
    "## calcular a area de um triangulo\n",
    "\n",
    "#### cria funcao area\n",
    "#### calcula comprimento x largura e armazena em a\n",
    "#### crie uma mostre_area\n",
    "#### cria dois inputas l e c\n",
    "#### crie uma varialel  ar e chame a funcao area com l e c"
   ]
  },
  {
   "cell_type": "code",
   "execution_count": 10,
   "metadata": {},
   "outputs": [],
   "source": [
    "def reta(l, c):\n",
    "    area = l * c\n",
    "\n",
    "    return area"
   ]
  },
  {
   "cell_type": "code",
   "execution_count": 11,
   "metadata": {},
   "outputs": [
    {
     "data": {
      "text/plain": [
       "100.0"
      ]
     },
     "execution_count": 11,
     "metadata": {},
     "output_type": "execute_result"
    }
   ],
   "source": [
    "def mostre_area():\n",
    "    \n",
    "    lar = float(input('qual e a largura?'))\n",
    "    comp = float(input('qual e o comprimento?'))\n",
    "\n",
    "    a = reta(lar, comp)\n",
    "\n",
    "    return a\n",
    "\n",
    "mostre_area()"
   ]
  },
  {
   "attachments": {},
   "cell_type": "markdown",
   "metadata": {},
   "source": [
    "### 1. crie um programa para calcular a soma e a media usando duas funcoes\n",
    "\n",
    "lista = [10,20,30,40,50]\n",
    "\n",
    "### 2. crie um programa para retornar o valor minimo, outra para retornar o valor maximo e outra para retornar a diferenca entre o maximo e minimo\n",
    "\n",
    "lista = [10,20,30,40,50]"
   ]
  },
  {
   "cell_type": "code",
   "execution_count": 12,
   "metadata": {},
   "outputs": [
    {
     "name": "stdout",
     "output_type": "stream",
     "text": [
      "150\n",
      "30.0\n"
     ]
    }
   ],
   "source": [
    "lista = [10,20,30,40,50]\n",
    "\n",
    "def soma():\n",
    "    soma = sum(lista)\n",
    "    return soma\n",
    "\n",
    "print(soma())\n",
    "\n",
    "def media():\n",
    "    media = soma() / len(lista)\n",
    "    return media\n",
    "\n",
    "print(media())"
   ]
  },
  {
   "cell_type": "code",
   "execution_count": 13,
   "metadata": {},
   "outputs": [
    {
     "name": "stdout",
     "output_type": "stream",
     "text": [
      "o numero minimo é:  10\n",
      "o numero maximo é:  50\n",
      "a diferenca entre o maximo e minimo é:  40\n"
     ]
    }
   ],
   "source": [
    "lista = [10,20,30,40,50]\n",
    "\n",
    "def minimo():\n",
    "    return min(lista)\n",
    "\n",
    "print('o numero minimo é: ', minimo())\n",
    "\n",
    "def maximo():\n",
    "    return max(lista)\n",
    "\n",
    "print('o numero maximo é: ', maximo())\n",
    "\n",
    "def diferenca():\n",
    "    return maximo() - minimo()\n",
    "\n",
    "print('a diferenca entre o maximo e minimo é: ', diferenca())\n"
   ]
  },
  {
   "attachments": {},
   "cell_type": "markdown",
   "metadata": {},
   "source": [
    "### crie um programa que solicita o salario de um funcionario. Apos isso, crie uma segunda funcao para calcular o desconto do funcionario. Depois, drie uma terceira funcao para retornar o salario que o funcionario devera receber"
   ]
  },
  {
   "cell_type": "code",
   "execution_count": 14,
   "metadata": {},
   "outputs": [
    {
     "name": "stdout",
     "output_type": "stream",
     "text": [
      "Vc ganha 10.0, e tirando o teu desconto de 1.0, vc fica com 9.0\n"
     ]
    }
   ],
   "source": [
    "valor = float(input(\"quanto vc ganha?\"))\n",
    " \n",
    "\n",
    "# print(salario())\n",
    "\n",
    "def desconto():\n",
    "\n",
    "    if valor < 2000:\n",
    "        desconto = valor *0.1\n",
    "\n",
    "    elif valor >= 2000 and valor < 4800:\n",
    "        desconto = valor * 0.15\n",
    "    \n",
    "    elif valor >= 4800 and valor < 6000:\n",
    "        desconto = valor * 0.2\n",
    "    \n",
    "    elif valor >= 6000 :\n",
    "        desconto = valor * 0.3\n",
    "    \n",
    "    else:\n",
    "        print('erro')\n",
    "\n",
    "    return desconto\n",
    "    \n",
    "def val_final(): \n",
    "    final = valor - desconto()\n",
    "    return final\n",
    "\n",
    "\n",
    "print(f'Vc ganha {valor}, e tirando o teu desconto de {desconto()}, vc fica com {val_final()}')\n"
   ]
  },
  {
   "attachments": {},
   "cell_type": "markdown",
   "metadata": {},
   "source": [
    "### crie um programa para calcular area de um circulo. uma funcao para calcular a area de outra para classificar \n",
    "\n",
    "area > 100 - grande\n",
    "area > 50 - media\n",
    "esle - pequena\n",
    "\n",
    "\n",
    "### cie uma funcao para multiplicar os valores de duas listas. a primeira funcao faz a multiplicacao e a segunda pegara  aprimeira e utilizara um append produtos =[] para multiplicar os respectivos indices das listas\n",
    "\n",
    "lista 1 = [1,2,3,4]\n",
    "lista 2 = [5,6,7,8]"
   ]
  },
  {
   "cell_type": "code",
   "execution_count": 15,
   "metadata": {},
   "outputs": [
    {
     "name": "stdout",
     "output_type": "stream",
     "text": [
      "a circunferencia do circulo é 10.0, com uma area de 314.0, e ele é grande\n"
     ]
    }
   ],
   "source": [
    "cm = float(input(\"qual e a circunferencia do circulo?\"))\n",
    "\n",
    "def cric_area():\n",
    "    area = (cm**2) * 3.14\n",
    "    return area\n",
    "\n",
    "def class_area():\n",
    "\n",
    "    area = cric_area()\n",
    "    if area >= 100:\n",
    "        a = 'grande'\n",
    "    \n",
    "    elif area >50 and area <100:\n",
    "        a = 'medio'\n",
    "\n",
    "    else:\n",
    "        a = 'pequeno'\n",
    "\n",
    "    return a\n",
    "\n",
    "print(f'a circunferencia do circulo é {cm}, com uma area de {cric_area()}, e ele é {class_area()}')"
   ]
  },
  {
   "cell_type": "code",
   "execution_count": 16,
   "metadata": {},
   "outputs": [
    {
     "data": {
      "text/plain": [
       "[5, 12, 21, 32]"
      ]
     },
     "execution_count": 16,
     "metadata": {},
     "output_type": "execute_result"
    }
   ],
   "source": [
    "lista1 = [1,2,3,4]\n",
    "lista2 = [5,6,7,8]\n",
    "\n",
    "produtos = []\n",
    "\n",
    "def mult(x, y):\n",
    "    mult = x * y\n",
    "    return mult\n",
    "\n",
    "def mult_lista(lista1, lista2):\n",
    "    for i in range(len(lista1)):\n",
    "        produtos.append(mult(lista1[i], lista2[i]))\n",
    "    return produtos\n",
    "\n",
    "mult_lista(lista1, lista2)"
   ]
  },
  {
   "attachments": {},
   "cell_type": "markdown",
   "metadata": {},
   "source": [
    "### crie um programa para uma calculadora simples de tal forma que tenha uma funcao para cada operacao (+ - / *). depois crie um funcao pra operacoes que fara as quatro operacoes ao mesmo tempo"
   ]
  },
  {
   "cell_type": "code",
   "execution_count": 17,
   "metadata": {},
   "outputs": [
    {
     "data": {
      "text/plain": [
       "[6, 2, 8, 2.0]"
      ]
     },
     "execution_count": 17,
     "metadata": {},
     "output_type": "execute_result"
    }
   ],
   "source": [
    "def soma(x, y):\n",
    "    return x + y\n",
    "\n",
    "def sub(x, y):\n",
    "    return x - y\n",
    "\n",
    "def mult(x, y):\n",
    "    return x * y\n",
    "\n",
    "def div(x, y):\n",
    "    return x / y\n",
    "\n",
    "def operacoes(sinal):\n",
    "    \n",
    "    resultado = []\n",
    "    \n",
    "    for opera, n1, n2 in sinal:\n",
    "\n",
    "        if opera == '-':\n",
    "            resultado.append(sub(n1,n2))\n",
    "       \n",
    "        elif opera == '+':\n",
    "            resultado.append(soma(n1,n2))\n",
    "       \n",
    "        elif opera == '*':\n",
    "            resultado.append(mult(n1,n2))\n",
    "       \n",
    "        else:\n",
    "            resultado.append(div(n1,n2))\n",
    "\n",
    "    return resultado\n",
    "\n",
    "espressao = [('+', 4, 2), ('-', 4, 2), ('*', 4, 2), ('/', 4, 2), ]\n",
    "\n",
    "operacoes(espressao)"
   ]
  }
 ],
 "metadata": {
  "kernelspec": {
   "display_name": "Python 3",
   "language": "python",
   "name": "python3"
  },
  "language_info": {
   "codemirror_mode": {
    "name": "ipython",
    "version": 3
   },
   "file_extension": ".py",
   "mimetype": "text/x-python",
   "name": "python",
   "nbconvert_exporter": "python",
   "pygments_lexer": "ipython3",
   "version": "3.11.4"
  },
  "orig_nbformat": 4
 },
 "nbformat": 4,
 "nbformat_minor": 2
}
