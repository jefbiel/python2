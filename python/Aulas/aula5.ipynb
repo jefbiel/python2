{
 "cells": [
  {
   "cell_type": "markdown",
   "metadata": {},
   "source": [
    "# Exercício 1"
   ]
  },
  {
   "cell_type": "code",
   "execution_count": null,
   "metadata": {},
   "outputs": [],
   "source": [
    "def cal_media(lista):\n",
    "    return sum(lista) / len(lista)\n",
    "\n",
    "numeros = [10,20,30,40,50,60]\n",
    "media = cal_media(numeros)\n",
    "\n",
    "print(\"a media dos numeros é:\", media)"
   ]
  },
  {
   "cell_type": "markdown",
   "metadata": {},
   "source": [
    "# Exercício 2"
   ]
  },
  {
   "cell_type": "code",
   "execution_count": null,
   "metadata": {},
   "outputs": [],
   "source": [
    "lista = [1, 3, 80, 51, 5, 18]\n",
    "def max_num(numeros):\n",
    "    return max(numeros)\n",
    "\n",
    "\n",
    "resultado = max_num(lista)\n",
    "\n",
    "print(\"o maior numero é:\", resultado)"
   ]
  },
  {
   "cell_type": "markdown",
   "metadata": {},
   "source": [
    "# Exercício 3"
   ]
  },
  {
   "cell_type": "code",
   "execution_count": null,
   "metadata": {},
   "outputs": [],
   "source": [
    "def positivo_negativo(lista):\n",
    "    positivo = [num for num in lista if num >0]\n",
    "    negativo = [num for num in lista if num <0]\n",
    "    return positivo, negativo\n",
    "\n",
    "numeros = [10, -20, 30, -40,50, -3, 7, 8]\n",
    "\n",
    "postivo, negativo = positivo_negativo(numeros)\n",
    "print(postivo)\n",
    "print(negativo)"
   ]
  },
  {
   "cell_type": "markdown",
   "metadata": {},
   "source": [
    "# Exercício 4"
   ]
  },
  {
   "cell_type": "code",
   "execution_count": null,
   "metadata": {},
   "outputs": [],
   "source": [
    "lista = [10,2,7,9,10,22,5,9,88]\n",
    "\n",
    "def soma_media(num):\n",
    "    soma = sum(num)\n",
    "    media = sum(num) / len(num)\n",
    "\n",
    "    return soma, media\n",
    "\n",
    "soma, media = soma_media(lista)\n",
    "print(\"a soma da lista é:\", soma)\n",
    "print(\"a media dos numeros é:\",media)\n"
   ]
  },
  {
   "cell_type": "code",
   "execution_count": null,
   "metadata": {},
   "outputs": [],
   "source": [
    "def min_max(num):\n",
    "    maximo = max(num)\n",
    "    minimo = min(num)\n",
    "    return maximo, minimo\n",
    "\n",
    "lista = [10,2,7,9,10,22,5,9,88]\n",
    "\n",
    "max, min = min_max(lista)\n",
    "\n",
    "print(\"o maior numero da lista é:\", max)\n",
    "print(\"o menor numero da lista é:\",min)"
   ]
  },
  {
   "cell_type": "code",
   "execution_count": null,
   "metadata": {},
   "outputs": [],
   "source": [
    "def todos(numero):\n",
    "    soma = sum(numero)\n",
    "    media = sum(numero) / len(numero)\n",
    "    maximo = max(numero)\n",
    "    minimo = min(numero)\n",
    "\n",
    "    return soma, media, maximo, minimo\n",
    "\n",
    "lista = [10,2,7,9,10,22,5,9,88]\n",
    "\n",
    "soma, media, maximo, minimo = todos(lista)\n",
    "\n",
    "print(\"a soma da lista é:\", soma)\n",
    "print(\"a media dos numeros é:\",media)\n",
    "print(\"o maior numero da lista é:\", maximo)\n",
    "print(\"o menor numero da lista é:\",minimo)"
   ]
  },
  {
   "cell_type": "code",
   "execution_count": null,
   "metadata": {},
   "outputs": [],
   "source": [
    "def quadrado_soma(numeros):\n",
    "    return sum(num**2 for num in numeros)\n",
    "\n",
    "lista = [10,2,7,9,10,22,5,9,88]\n",
    "\n",
    "resultado = quadrado_soma(lista)\n",
    "\n",
    "print(resultado)   "
   ]
  },
  {
   "cell_type": "code",
   "execution_count": null,
   "metadata": {},
   "outputs": [],
   "source": [
    "def elementos(num, elemento):\n",
    "    return num.count(elemento)\n",
    "\n",
    "lista = [10,2,7,9,10,22,5,9,88]\n",
    "elemento = 3\n",
    "ocorrencia = elementos(lista, elemento)\n",
    "\n",
    "print(ocorrencia)"
   ]
  },
  {
   "cell_type": "code",
   "execution_count": null,
   "metadata": {},
   "outputs": [],
   "source": [
    "def inverter(lista):\n",
    "    return lista[::-1]\n",
    "\n",
    "numeros = [1,2,3,4,5]\n",
    "lista_invertida = inverter(numeros)\n",
    "print(\"a lista imvertida e:\", lista_invertida)"
   ]
  },
  {
   "cell_type": "code",
   "execution_count": null,
   "metadata": {},
   "outputs": [],
   "source": [
    "# verifica se a lista esta crescente\n",
    "def crescente(lista):\n",
    "    return lista == sorted(lista)\n",
    "\n",
    "numeros = [1,2,3,4,5]\n",
    "esta_ordenada = crescente(numeros)\n",
    "print(\"a lista esta ordenada?\", esta_ordenada)"
   ]
  },
  {
   "cell_type": "code",
   "execution_count": null,
   "metadata": {},
   "outputs": [],
   "source": [
    "def remover_duplicado(lista):\n",
    "    return list(set(lista))\n",
    "\n",
    "numeros = [1,2,3,4,5,1,2,3]\n",
    "sem_duplicados = remover_duplicado(numeros)\n",
    "print(\"lista sem elementos duplicados\", sem_duplicados)"
   ]
  },
  {
   "cell_type": "markdown",
   "metadata": {},
   "source": [
    "# Parte 2"
   ]
  },
  {
   "cell_type": "markdown",
   "metadata": {},
   "source": [
    "pip install pandas"
   ]
  },
  {
   "cell_type": "code",
   "execution_count": 1,
   "metadata": {},
   "outputs": [
    {
     "name": "stdout",
     "output_type": "stream",
     "text": [
      "Collecting matplotlib\n",
      "  Downloading matplotlib-3.8.3-cp311-cp311-win_amd64.whl.metadata (5.9 kB)\n",
      "Collecting contourpy>=1.0.1 (from matplotlib)\n",
      "  Downloading contourpy-1.2.0-cp311-cp311-win_amd64.whl.metadata (5.8 kB)\n",
      "Collecting cycler>=0.10 (from matplotlib)\n",
      "  Downloading cycler-0.12.1-py3-none-any.whl.metadata (3.8 kB)\n",
      "Collecting fonttools>=4.22.0 (from matplotlib)\n",
      "  Downloading fonttools-4.50.0-cp311-cp311-win_amd64.whl.metadata (162 kB)\n",
      "     ---------------------------------------- 0.0/162.6 kB ? eta -:--:--\n",
      "     ------- ------------------------------- 30.7/162.6 kB 1.3 MB/s eta 0:00:01\n",
      "     -------------------------- ----------- 112.6/162.6 kB 1.3 MB/s eta 0:00:01\n",
      "     ----------------------------------- -- 153.6/162.6 kB 1.3 MB/s eta 0:00:01\n",
      "     ------------------------------------ 162.6/162.6 kB 976.7 kB/s eta 0:00:00\n",
      "Collecting kiwisolver>=1.3.1 (from matplotlib)\n",
      "  Downloading kiwisolver-1.4.5-cp311-cp311-win_amd64.whl.metadata (6.5 kB)\n",
      "Requirement already satisfied: numpy<2,>=1.21 in c:\\users\\adnar\\appdata\\local\\packages\\pythonsoftwarefoundation.python.3.11_qbz5n2kfra8p0\\localcache\\local-packages\\python311\\site-packages (from matplotlib) (1.26.4)\n",
      "Requirement already satisfied: packaging>=20.0 in c:\\users\\adnar\\appdata\\local\\packages\\pythonsoftwarefoundation.python.3.11_qbz5n2kfra8p0\\localcache\\local-packages\\python311\\site-packages (from matplotlib) (23.2)\n",
      "Collecting pillow>=8 (from matplotlib)\n",
      "  Downloading pillow-10.2.0-cp311-cp311-win_amd64.whl.metadata (9.9 kB)\n",
      "Collecting pyparsing>=2.3.1 (from matplotlib)\n",
      "  Downloading pyparsing-3.1.2-py3-none-any.whl.metadata (5.1 kB)\n",
      "Requirement already satisfied: python-dateutil>=2.7 in c:\\users\\adnar\\appdata\\local\\packages\\pythonsoftwarefoundation.python.3.11_qbz5n2kfra8p0\\localcache\\local-packages\\python311\\site-packages (from matplotlib) (2.8.2)\n",
      "Requirement already satisfied: six>=1.5 in c:\\users\\adnar\\appdata\\local\\packages\\pythonsoftwarefoundation.python.3.11_qbz5n2kfra8p0\\localcache\\local-packages\\python311\\site-packages (from python-dateutil>=2.7->matplotlib) (1.16.0)\n",
      "Downloading matplotlib-3.8.3-cp311-cp311-win_amd64.whl (7.6 MB)\n",
      "   ---------------------------------------- 0.0/7.6 MB ? eta -:--:--\n",
      "    --------------------------------------- 0.1/7.6 MB ? eta -:--:--\n",
      "   - -------------------------------------- 0.2/7.6 MB 3.8 MB/s eta 0:00:02\n",
      "   - -------------------------------------- 0.4/7.6 MB 3.3 MB/s eta 0:00:03\n",
      "   -- ------------------------------------- 0.5/7.6 MB 3.7 MB/s eta 0:00:02\n",
      "   --- ------------------------------------ 0.7/7.6 MB 4.1 MB/s eta 0:00:02\n",
      "   --- ------------------------------------ 0.7/7.6 MB 4.1 MB/s eta 0:00:02\n",
      "   --- ------------------------------------ 0.7/7.6 MB 4.1 MB/s eta 0:00:02\n",
      "   ------- -------------------------------- 1.4/7.6 MB 4.8 MB/s eta 0:00:02\n",
      "   ------- -------------------------------- 1.4/7.6 MB 4.8 MB/s eta 0:00:02\n",
      "   ------- -------------------------------- 1.4/7.6 MB 4.8 MB/s eta 0:00:02\n",
      "   ---------- ----------------------------- 1.9/7.6 MB 4.5 MB/s eta 0:00:02\n",
      "   ----------- ---------------------------- 2.2/7.6 MB 4.3 MB/s eta 0:00:02\n",
      "   ----------- ---------------------------- 2.2/7.6 MB 4.3 MB/s eta 0:00:02\n",
      "   ------------ --------------------------- 2.3/7.6 MB 4.1 MB/s eta 0:00:02\n",
      "   ------------ --------------------------- 2.3/7.6 MB 4.1 MB/s eta 0:00:02\n",
      "   ------------------ --------------------- 3.5/7.6 MB 5.4 MB/s eta 0:00:01\n",
      "   ------------------ --------------------- 3.5/7.6 MB 5.4 MB/s eta 0:00:01\n",
      "   ------------------ --------------------- 3.6/7.6 MB 4.9 MB/s eta 0:00:01\n",
      "   ------------------ --------------------- 3.6/7.6 MB 4.9 MB/s eta 0:00:01\n",
      "   ------------------ --------------------- 3.6/7.6 MB 4.9 MB/s eta 0:00:01\n",
      "   --------------------- ------------------ 4.1/7.6 MB 4.7 MB/s eta 0:00:01\n",
      "   --------------------- ------------------ 4.1/7.6 MB 4.7 MB/s eta 0:00:01\n",
      "   --------------------- ------------------ 4.1/7.6 MB 4.4 MB/s eta 0:00:01\n",
      "   --------------------- ------------------ 4.1/7.6 MB 4.4 MB/s eta 0:00:01\n",
      "   -------------------------------------- - 7.4/7.6 MB 7.2 MB/s eta 0:00:01\n",
      "   ---------------------------------------  7.6/7.6 MB 7.4 MB/s eta 0:00:01\n",
      "   ---------------------------------------  7.6/7.6 MB 7.4 MB/s eta 0:00:01\n",
      "   ---------------------------------------  7.6/7.6 MB 7.4 MB/s eta 0:00:01\n",
      "   ---------------------------------------  7.6/7.6 MB 7.4 MB/s eta 0:00:01\n",
      "   ---------------------------------------  7.6/7.6 MB 7.4 MB/s eta 0:00:01\n",
      "   ---------------------------------------  7.6/7.6 MB 7.4 MB/s eta 0:00:01\n",
      "   ---------------------------------------  7.6/7.6 MB 7.4 MB/s eta 0:00:01\n",
      "   ---------------------------------------  7.6/7.6 MB 7.4 MB/s eta 0:00:01\n",
      "   ---------------------------------------  7.6/7.6 MB 7.4 MB/s eta 0:00:01\n",
      "   ---------------------------------------  7.6/7.6 MB 7.4 MB/s eta 0:00:01\n",
      "   ---------------------------------------  7.6/7.6 MB 7.4 MB/s eta 0:00:01\n",
      "   ---------------------------------------  7.6/7.6 MB 7.4 MB/s eta 0:00:01\n",
      "   ---------------------------------------  7.6/7.6 MB 7.4 MB/s eta 0:00:01\n",
      "   ---------------------------------------  7.6/7.6 MB 7.4 MB/s eta 0:00:01\n",
      "   ---------------------------------------  7.6/7.6 MB 7.4 MB/s eta 0:00:01\n",
      "   ---------------------------------------  7.6/7.6 MB 7.4 MB/s eta 0:00:01\n",
      "   ---------------------------------------  7.6/7.6 MB 7.4 MB/s eta 0:00:01\n",
      "   ---------------------------------------  7.6/7.6 MB 7.4 MB/s eta 0:00:01\n",
      "   ---------------------------------------  7.6/7.6 MB 7.4 MB/s eta 0:00:01\n",
      "   ---------------------------------------  7.6/7.6 MB 7.4 MB/s eta 0:00:01\n",
      "   ---------------------------------------  7.6/7.6 MB 7.4 MB/s eta 0:00:01\n",
      "   ---------------------------------------  7.6/7.6 MB 7.4 MB/s eta 0:00:01\n",
      "   ---------------------------------------  7.6/7.6 MB 7.4 MB/s eta 0:00:01\n",
      "   ---------------------------------------  7.6/7.6 MB 7.4 MB/s eta 0:00:01\n",
      "   ---------------------------------------  7.6/7.6 MB 7.4 MB/s eta 0:00:01\n",
      "   ---------------------------------------  7.6/7.6 MB 7.4 MB/s eta 0:00:01\n",
      "   ---------------------------------------  7.6/7.6 MB 7.4 MB/s eta 0:00:01\n",
      "   ---------------------------------------  7.6/7.6 MB 7.4 MB/s eta 0:00:01\n",
      "   ---------------------------------------  7.6/7.6 MB 7.4 MB/s eta 0:00:01\n",
      "   ---------------------------------------  7.6/7.6 MB 7.4 MB/s eta 0:00:01\n",
      "   ---------------------------------------  7.6/7.6 MB 7.4 MB/s eta 0:00:01\n",
      "   ---------------------------------------  7.6/7.6 MB 7.4 MB/s eta 0:00:01\n",
      "   ---------------------------------------  7.6/7.6 MB 7.4 MB/s eta 0:00:01\n",
      "   ---------------------------------------  7.6/7.6 MB 7.4 MB/s eta 0:00:01\n",
      "   ---------------------------------------  7.6/7.6 MB 7.4 MB/s eta 0:00:01\n",
      "   ---------------------------------------  7.6/7.6 MB 7.4 MB/s eta 0:00:01\n",
      "   ---------------------------------------  7.6/7.6 MB 7.4 MB/s eta 0:00:01\n",
      "   ---------------------------------------  7.6/7.6 MB 7.4 MB/s eta 0:00:01\n",
      "   ---------------------------------------  7.6/7.6 MB 7.4 MB/s eta 0:00:01\n",
      "   ---------------------------------------  7.6/7.6 MB 7.4 MB/s eta 0:00:01\n",
      "   ---------------------------------------  7.6/7.6 MB 7.4 MB/s eta 0:00:01\n",
      "   ---------------------------------------  7.6/7.6 MB 7.4 MB/s eta 0:00:01\n",
      "   ---------------------------------------  7.6/7.6 MB 7.4 MB/s eta 0:00:01\n",
      "   ---------------------------------------  7.6/7.6 MB 7.4 MB/s eta 0:00:01\n",
      "   ---------------------------------------  7.6/7.6 MB 7.4 MB/s eta 0:00:01\n",
      "   ---------------------------------------  7.6/7.6 MB 7.4 MB/s eta 0:00:01\n",
      "   ---------------------------------------  7.6/7.6 MB 7.4 MB/s eta 0:00:01\n",
      "   ---------------------------------------  7.6/7.6 MB 7.4 MB/s eta 0:00:01\n",
      "   ---------------------------------------  7.6/7.6 MB 7.4 MB/s eta 0:00:01\n",
      "   ---------------------------------------  7.6/7.6 MB 7.4 MB/s eta 0:00:01\n",
      "   ---------------------------------------  7.6/7.6 MB 7.4 MB/s eta 0:00:01\n",
      "   ---------------------------------------  7.6/7.6 MB 7.4 MB/s eta 0:00:01\n",
      "   ---------------------------------------  7.6/7.6 MB 7.4 MB/s eta 0:00:01\n",
      "   ---------------------------------------  7.6/7.6 MB 7.4 MB/s eta 0:00:01\n",
      "   ---------------------------------------  7.6/7.6 MB 7.4 MB/s eta 0:00:01\n",
      "   ---------------------------------------  7.6/7.6 MB 7.4 MB/s eta 0:00:01\n",
      "   ---------------------------------------  7.6/7.6 MB 7.4 MB/s eta 0:00:01\n",
      "   ---------------------------------------  7.6/7.6 MB 7.4 MB/s eta 0:00:01\n",
      "   ---------------------------------------  7.6/7.6 MB 7.4 MB/s eta 0:00:01\n",
      "   ---------------------------------------  7.6/7.6 MB 7.4 MB/s eta 0:00:01\n",
      "   ---------------------------------------  7.6/7.6 MB 7.4 MB/s eta 0:00:01\n",
      "   ---------------------------------------  7.6/7.6 MB 7.4 MB/s eta 0:00:01\n",
      "   ---------------------------------------  7.6/7.6 MB 7.4 MB/s eta 0:00:01\n",
      "   ---------------------------------------  7.6/7.6 MB 7.4 MB/s eta 0:00:01\n",
      "   ---------------------------------------  7.6/7.6 MB 7.4 MB/s eta 0:00:01\n",
      "   ---------------------------------------  7.6/7.6 MB 7.4 MB/s eta 0:00:01\n",
      "   ---------------------------------------- 7.6/7.6 MB 1.9 MB/s eta 0:00:00\n",
      "Downloading contourpy-1.2.0-cp311-cp311-win_amd64.whl (187 kB)\n",
      "   ---------------------------------------- 0.0/187.6 kB ? eta -:--:--\n",
      "   ---------------------------------------- 187.6/187.6 kB 5.7 MB/s eta 0:00:00\n",
      "Downloading cycler-0.12.1-py3-none-any.whl (8.3 kB)\n",
      "Downloading fonttools-4.50.0-cp311-cp311-win_amd64.whl (2.2 MB)\n",
      "   ---------------------------------------- 0.0/2.2 MB ? eta -:--:--\n",
      "   ------------------------------ --------- 1.7/2.2 MB 35.7 MB/s eta 0:00:01\n",
      "   ---------------------------------------  2.2/2.2 MB 35.0 MB/s eta 0:00:01\n",
      "   ---------------------------------------- 2.2/2.2 MB 19.9 MB/s eta 0:00:00\n",
      "Downloading kiwisolver-1.4.5-cp311-cp311-win_amd64.whl (56 kB)\n",
      "   ---------------------------------------- 0.0/56.1 kB ? eta -:--:--\n",
      "   ---------------------------------------- 56.1/56.1 kB 2.9 MB/s eta 0:00:00\n",
      "Downloading pillow-10.2.0-cp311-cp311-win_amd64.whl (2.6 MB)\n",
      "   ---------------------------------------- 0.0/2.6 MB ? eta -:--:--\n",
      "   - -------------------------------------- 0.1/2.6 MB ? eta -:--:--\n",
      "   ------------ --------------------------- 0.8/2.6 MB 12.7 MB/s eta 0:00:01\n",
      "   ---------------------------------------  2.6/2.6 MB 20.8 MB/s eta 0:00:01\n",
      "   ---------------------------------------  2.6/2.6 MB 20.8 MB/s eta 0:00:01\n",
      "   ---------------------------------------  2.6/2.6 MB 20.8 MB/s eta 0:00:01\n",
      "   ---------------------------------------  2.6/2.6 MB 20.8 MB/s eta 0:00:01\n",
      "   ---------------------------------------  2.6/2.6 MB 20.8 MB/s eta 0:00:01\n",
      "   ---------------------------------------  2.6/2.6 MB 20.8 MB/s eta 0:00:01\n",
      "   ---------------------------------------- 2.6/2.6 MB 7.3 MB/s eta 0:00:00\n",
      "Downloading pyparsing-3.1.2-py3-none-any.whl (103 kB)\n",
      "   ---------------------------------------- 0.0/103.2 kB ? eta -:--:--\n",
      "   ---------------------------------------- 103.2/103.2 kB 2.9 MB/s eta 0:00:00\n",
      "Installing collected packages: pyparsing, pillow, kiwisolver, fonttools, cycler, contourpy, matplotlib\n",
      "Successfully installed contourpy-1.2.0 cycler-0.12.1 fonttools-4.50.0 kiwisolver-1.4.5 matplotlib-3.8.3 pillow-10.2.0 pyparsing-3.1.2\n",
      "Note: you may need to restart the kernel to use updated packages.\n"
     ]
    }
   ],
   "source": [
    "pip install matplotlib"
   ]
  },
  {
   "cell_type": "code",
   "execution_count": null,
   "metadata": {},
   "outputs": [],
   "source": [
    "pip install numpy"
   ]
  },
  {
   "cell_type": "code",
   "execution_count": null,
   "metadata": {},
   "outputs": [],
   "source": [
    "pip install numpy"
   ]
  },
  {
   "cell_type": "code",
   "execution_count": null,
   "metadata": {},
   "outputs": [],
   "source": [
    "import numpy as np"
   ]
  },
  {
   "cell_type": "code",
   "execution_count": null,
   "metadata": {},
   "outputs": [],
   "source": [
    "dados = pd.read_csv(r'C:\\Users\\logonrmlocal\\Desktop\\Python_2-semestre\\Aulas\\aula 5\\manutencao_preditiva.csv')"
   ]
  },
  {
   "cell_type": "code",
   "execution_count": null,
   "metadata": {},
   "outputs": [],
   "source": [
    "dados"
   ]
  },
  {
   "cell_type": "code",
   "execution_count": null,
   "metadata": {},
   "outputs": [],
   "source": [
    "y1 = dados[['Temperatura Ar [K]']]\n",
    "y2 = dados[['Temperatura Processo [K]']]\n",
    "x = dados[['UDI']]"
   ]
  },
  {
   "cell_type": "code",
   "execution_count": null,
   "metadata": {},
   "outputs": [],
   "source": [
    "import matplotlib.pyplot as pld\n",
    "\n",
    "\n",
    "pld.plot(x, y1, x, y2)\n",
    "pld.show()"
   ]
  },
  {
   "cell_type": "code",
   "execution_count": null,
   "metadata": {},
   "outputs": [],
   "source": [
    "dados_filtrado = dados.head(5)\n",
    "\n",
    "torque = dados_filtrado[['Torque [Nm]']]\n",
    "rpm = dados_filtrado[['Velocidade Rotacao [rpm]']]"
   ]
  },
  {
   "cell_type": "code",
   "execution_count": null,
   "metadata": {},
   "outputs": [],
   "source": [
    "dados_novo = dados_filtrado[['Torque [Nm]', 'Velocidade Rotacao [rpm]']]\n",
    "dados"
   ]
  },
  {
   "cell_type": "code",
   "execution_count": null,
   "metadata": {},
   "outputs": [],
   "source": [
    "soma = np.sum(dados_novo)\n",
    "print('a soma dos elementos é:', soma )"
   ]
  },
  {
   "cell_type": "code",
   "execution_count": null,
   "metadata": {},
   "outputs": [],
   "source": [
    "# se colocar 0, vai pegar os menores valores das linha e se colocar 1 vai pegar a coluna com os meores valores\n",
    "# valor minimo de cada linha na matriz\n",
    "# axis - o 1 pega a coluna e o \"0\" pega a linha\n",
    "minimo_linha = np.min(dados_novo, axis=1)\n",
    "print(\"valores minimos em cada linha da matriz e:\", minimo_linha)"
   ]
  },
  {
   "cell_type": "code",
   "execution_count": null,
   "metadata": {},
   "outputs": [],
   "source": [
    "media_coluna = np.mean(dados_novo, axis=0)\n",
    "print(\"media de cada coluna da matriz\", media_coluna)"
   ]
  },
  {
   "cell_type": "code",
   "execution_count": null,
   "metadata": {},
   "outputs": [],
   "source": [
    "matriz_transposta = np.transpose(dados_novo)\n",
    "matriz_transposta"
   ]
  },
  {
   "cell_type": "code",
   "execution_count": null,
   "metadata": {},
   "outputs": [],
   "source": [
    "# matriz 1\n",
    "dados_filtrado_1 = dados.head(10)\n",
    "\n",
    "torque = dados_filtrado_1[['Torque [Nm]']]\n",
    "ar = dados_filtrado_1[['Temperatura Ar [K]']]"
   ]
  },
  {
   "cell_type": "code",
   "execution_count": null,
   "metadata": {},
   "outputs": [],
   "source": [
    "# matriz 2\n",
    "dados_filtrado_2 = dados.iloc[15:25]\n",
    "\n",
    "rpm = dados_filtrado_2[['Velocidade Rotacao [rpm]']]\n",
    "proc = dados_filtrado_2[['Temperatura Processo [K]']]"
   ]
  },
  {
   "cell_type": "code",
   "execution_count": null,
   "metadata": {},
   "outputs": [],
   "source": [
    "dados_novo_1 = dados_filtrado_1[['Torque [Nm]', 'Temperatura Ar [K]']].values\n",
    "dados_novo_2 = dados_filtrado_2[['Velocidade Rotacao [rpm]','Temperatura Processo [K]']].values\n",
    "\n",
    "dados_novo_1\n"
   ]
  },
  {
   "cell_type": "code",
   "execution_count": null,
   "metadata": {},
   "outputs": [],
   "source": [
    "dados_novo_2"
   ]
  },
  {
   "cell_type": "code",
   "execution_count": null,
   "metadata": {},
   "outputs": [],
   "source": [
    "soma1 = np.sum(dados_novo_1)\n",
    "print('a soma dos elementos da 1 matriz é:', soma1 )\n",
    "\n",
    "soma2 = np.sum(dados_novo_2)\n",
    "print('a soma dos elementos da 2 matriz é:', soma2 )"
   ]
  },
  {
   "cell_type": "code",
   "execution_count": null,
   "metadata": {},
   "outputs": [],
   "source": [
    "min1 = np.min(dados_novo_1, axis=0)\n",
    "print('a soma dos elementos da 1 matriz é:', min1 )\n",
    "max1 = np.max(dados_novo_1, axis=0)\n",
    "print('a soma dos elementos da 1 matriz é:', max1 )\n",
    "\n",
    "\n",
    "min1_1 = np.min(dados_novo_2, axis=0)\n",
    "print('a soma dos elementos da 1 matriz é:', min1_1 )\n",
    "max2_2 = np.max(dados_novo_2, axis=0)\n",
    "print('a soma dos elementos da 2 matriz é:', max2_2 )\n"
   ]
  },
  {
   "cell_type": "code",
   "execution_count": null,
   "metadata": {},
   "outputs": [],
   "source": [
    "media1 = np.mean(dados_novo_1, axis=0)\n",
    "print('a media dos elementos da 1 matriz é:', media1 )\n",
    "\n",
    "media2 = np.mean(dados_novo_2, axis=0)\n",
    "print('a media dos elementos da 1 matriz é:', media2 )"
   ]
  },
  {
   "cell_type": "code",
   "execution_count": null,
   "metadata": {},
   "outputs": [],
   "source": [
    "matriz_transposta1 = np.transpose(dados_novo_1)\n",
    "print(matriz_transposta1)"
   ]
  },
  {
   "cell_type": "code",
   "execution_count": null,
   "metadata": {},
   "outputs": [],
   "source": [
    "matriz_transposta2 = np.transpose(dados_novo_2)\n",
    "print(matriz_transposta2)"
   ]
  },
  {
   "cell_type": "code",
   "execution_count": null,
   "metadata": {},
   "outputs": [],
   "source": [
    "media_transpose1 = np.mean(matriz_transposta1, axis=0)\n",
    "print('a media dos elementos tranpostos da 1 matriz é:', media_transpose1 )\n",
    "\n",
    "media_transpose2 = np.mean(matriz_transposta2, axis=0)\n",
    "print('a media dos elementos transposto da 2 matriz é:', media_transpose2 )"
   ]
  }
 ],
 "metadata": {
  "kernelspec": {
   "display_name": "Python 3",
   "language": "python",
   "name": "python3"
  },
  "language_info": {
   "codemirror_mode": {
    "name": "ipython",
    "version": 3
   },
   "file_extension": ".py",
   "mimetype": "text/x-python",
   "name": "python",
   "nbconvert_exporter": "python",
   "pygments_lexer": "ipython3",
   "version": "3.11.8"
  }
 },
 "nbformat": 4,
 "nbformat_minor": 2
}
