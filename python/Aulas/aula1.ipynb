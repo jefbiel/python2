{
 "cells": [
  {
   "cell_type": "code",
   "execution_count": 1,
   "metadata": {},
   "outputs": [
    {
     "name": "stdout",
     "output_type": "stream",
     "text": [
      "A média das notas é: 10.0\n"
     ]
    }
   ],
   "source": [
    "nota1 = float(input(\"Digite a primeira nota:\"))\n",
    "nota2 = float(input(\"Digite a segunda nota:\"))\n",
    "nota3 = float(input(\"Digite a terceira nota:\"))\n",
    "\n",
    "media = (nota1+nota2+nota3)/3\n",
    "print(\"A média das notas é:\", media)"
   ]
  },
  {
   "cell_type": "code",
   "execution_count": 5,
   "metadata": {},
   "outputs": [],
   "source": [
    "A = float(input(\"Digite o valor de A:\"))\n",
    "B = float(input(\"Digite o valor de B:\"))\n",
    "\n",
    "if A > B:\n",
    "    print:(\"A é maior que B\")\n",
    "else:\n",
    "    print:(\"B é maior que A\")"
   ]
  },
  {
   "cell_type": "code",
   "execution_count": 7,
   "metadata": {},
   "outputs": [
    {
     "name": "stdout",
     "output_type": "stream",
     "text": [
      "A área do círculo é: 12.566\n"
     ]
    }
   ],
   "source": [
    "raio = float(input(\"Digite o raio do círculo: \"))\n",
    "area = 3.1415 * raio ** 2\n",
    "print(\"A área do círculo é:\", area)"
   ]
  },
  {
   "cell_type": "markdown",
   "metadata": {},
   "source": [
    "## Exercício 1\n"
   ]
  },
  {
   "cell_type": "code",
   "execution_count": 8,
   "metadata": {},
   "outputs": [
    {
     "name": "stdout",
     "output_type": "stream",
     "text": [
      "A energia resultante é de 3000.0 Mjoules\n"
     ]
    }
   ],
   "source": [
    "m = float(input(\"Inserir valor da massa em kg: \"))\n",
    "energia = (m * 3 * pow(10,8)) / 1000000\n",
    "print(\"A energia resultante é de\", energia, \"Mjoules\")"
   ]
  },
  {
   "cell_type": "markdown",
   "metadata": {},
   "source": [
    "## Exercício 2"
   ]
  },
  {
   "cell_type": "code",
   "execution_count": 12,
   "metadata": {},
   "outputs": [
    {
     "name": "stdout",
     "output_type": "stream",
     "text": [
      "Adolescente\n"
     ]
    }
   ],
   "source": [
    "idade = int(input(\"Digite a idade: \"))\n",
    "\n",
    "if idade <= 11:\n",
    "    print(\"Criança\")\n",
    "elif idade >= 12 and idade <= 20:\n",
    "    print(\"Adolescente\")\n",
    "elif idade >= 21 and idade <= 40:\n",
    "    print(\"Adulto jovem\")\n",
    "elif idade >= 41 and idade <= 65:\n",
    "    print(\"Meia idade\")\n",
    "else:\n",
    "    print(\"Idoso\")"
   ]
  },
  {
   "cell_type": "code",
   "execution_count": 5,
   "metadata": {},
   "outputs": [
    {
     "name": "stdout",
     "output_type": "stream",
     "text": [
      "first king\n",
      "first queen\n",
      "first princess\n",
      "first Duke\n",
      "second king\n",
      "second queen\n",
      "second princess\n",
      "second Duke\n",
      "third king\n",
      "third queen\n",
      "third princess\n",
      "third Duke\n",
      "fourth king\n",
      "fourth queen\n",
      "fourth princess\n",
      "fourth Duke\n"
     ]
    }
   ],
   "source": [
    "ordem = [\"first\", \"second\", \"third\", \"fourth\"]\n",
    "titulo = [\"king\", \"queen\", \"princess\", \"Duke\"]\n",
    "\n",
    "for x in ordem:\n",
    "    for y in titulo:\\\n",
    "        print(x, y)"
   ]
  },
  {
   "cell_type": "code",
   "execution_count": 16,
   "metadata": {},
   "outputs": [
    {
     "name": "stdout",
     "output_type": "stream",
     "text": [
      "maria foi aprovado com 9.0\n"
     ]
    }
   ],
   "source": [
    "alunos = [\"joao\", \"maria\", \"pedro\", \"ana\"]\n",
    "notas = [8.5, 9.0, 9.5, 7.5]\n",
    "faltas = [2, 0, 1, 3]\n",
    "\n",
    "for i in range(len(alunos)):\n",
    "    if notas[i] >= 8 and faltas[i] == 0:\n",
    "        print(f\"{alunos[i]} foi aprovado com {notas[i]}\")"
   ]
  },
  {
   "cell_type": "code",
   "execution_count": 2,
   "metadata": {},
   "outputs": [
    {
     "name": "stdout",
     "output_type": "stream",
     "text": [
      "Collecting pandasNote: you may need to restart the kernel to use updated packages.\n",
      "\n",
      "  Downloading pandas-2.2.1-cp311-cp311-win_amd64.whl.metadata (19 kB)\n",
      "Collecting numpy<2,>=1.23.2 (from pandas)\n",
      "  Downloading numpy-1.26.4-cp311-cp311-win_amd64.whl.metadata (61 kB)\n",
      "     ---------------------------------------- 0.0/61.0 kB ? eta -:--:--\n",
      "     ------ --------------------------------- 10.2/61.0 kB ? eta -:--:--\n",
      "     ------------------- ------------------ 30.7/61.0 kB 660.6 kB/s eta 0:00:01\n",
      "     ------------------- ------------------ 30.7/61.0 kB 660.6 kB/s eta 0:00:01\n",
      "     ------------------- ------------------ 30.7/61.0 kB 660.6 kB/s eta 0:00:01\n",
      "     -------------------------------------- 61.0/61.0 kB 325.6 kB/s eta 0:00:00\n",
      "Requirement already satisfied: python-dateutil>=2.8.2 in c:\\users\\adnar\\appdata\\local\\packages\\pythonsoftwarefoundation.python.3.11_qbz5n2kfra8p0\\localcache\\local-packages\\python311\\site-packages (from pandas) (2.8.2)\n",
      "Collecting pytz>=2020.1 (from pandas)\n",
      "  Downloading pytz-2024.1-py2.py3-none-any.whl.metadata (22 kB)\n",
      "Collecting tzdata>=2022.7 (from pandas)\n",
      "  Downloading tzdata-2024.1-py2.py3-none-any.whl.metadata (1.4 kB)\n",
      "Requirement already satisfied: six>=1.5 in c:\\users\\adnar\\appdata\\local\\packages\\pythonsoftwarefoundation.python.3.11_qbz5n2kfra8p0\\localcache\\local-packages\\python311\\site-packages (from python-dateutil>=2.8.2->pandas) (1.16.0)\n",
      "Downloading pandas-2.2.1-cp311-cp311-win_amd64.whl (11.6 MB)\n",
      "   ---------------------------------------- 0.0/11.6 MB ? eta -:--:--\n",
      "   ---- ----------------------------------- 1.3/11.6 MB 28.5 MB/s eta 0:00:01\n",
      "   ---------- ----------------------------- 2.9/11.6 MB 31.5 MB/s eta 0:00:01\n",
      "   ---------------- ----------------------- 4.8/11.6 MB 30.7 MB/s eta 0:00:01\n",
      "   --------------------- ------------------ 6.3/11.6 MB 31.0 MB/s eta 0:00:01\n",
      "   ---------------------------- ----------- 8.2/11.6 MB 32.8 MB/s eta 0:00:01\n",
      "   ---------------------------------- ----- 10.0/11.6 MB 33.8 MB/s eta 0:00:01\n",
      "   -------------------------------------- - 11.2/11.6 MB 34.4 MB/s eta 0:00:01\n",
      "   ---------------------------------------  11.6/11.6 MB 32.7 MB/s eta 0:00:01\n",
      "   ---------------------------------------- 11.6/11.6 MB 27.3 MB/s eta 0:00:00\n",
      "Downloading numpy-1.26.4-cp311-cp311-win_amd64.whl (15.8 MB)\n",
      "   ---------------------------------------- 0.0/15.8 MB ? eta -:--:--\n",
      "   ---- ----------------------------------- 2.0/15.8 MB 41.4 MB/s eta 0:00:01\n",
      "   --------- ------------------------------ 3.8/15.8 MB 40.4 MB/s eta 0:00:01\n",
      "   -------------- ------------------------- 5.6/15.8 MB 39.6 MB/s eta 0:00:01\n",
      "   ----------------- ---------------------- 7.1/15.8 MB 35.0 MB/s eta 0:00:01\n",
      "   ---------------------- ----------------- 9.1/15.8 MB 36.2 MB/s eta 0:00:01\n",
      "   ------------------------- -------------- 10.2/15.8 MB 36.1 MB/s eta 0:00:01\n",
      "   ------------------------------ --------- 12.2/15.8 MB 34.6 MB/s eta 0:00:01\n",
      "   ---------------------------------- ----- 13.7/15.8 MB 32.8 MB/s eta 0:00:01\n",
      "   ---------------------------------------  15.5/15.8 MB 32.8 MB/s eta 0:00:01\n",
      "   ---------------------------------------  15.8/15.8 MB 34.4 MB/s eta 0:00:01\n",
      "   ---------------------------------------  15.8/15.8 MB 34.4 MB/s eta 0:00:01\n",
      "   ---------------------------------------  15.8/15.8 MB 34.4 MB/s eta 0:00:01\n",
      "   ---------------------------------------- 15.8/15.8 MB 21.1 MB/s eta 0:00:00\n",
      "Downloading pytz-2024.1-py2.py3-none-any.whl (505 kB)\n",
      "   ---------------------------------------- 0.0/505.5 kB ? eta -:--:--\n",
      "   --------------------------------------  501.8/505.5 kB 32.8 MB/s eta 0:00:01\n",
      "   --------------------------------------  501.8/505.5 kB 32.8 MB/s eta 0:00:01\n",
      "   ---------------------------------------- 505.5/505.5 kB 4.0 MB/s eta 0:00:00\n",
      "Downloading tzdata-2024.1-py2.py3-none-any.whl (345 kB)\n",
      "   ---------------------------------------- 0.0/345.4 kB ? eta -:--:--\n",
      "   --------------------------------------  337.9/345.4 kB 20.5 MB/s eta 0:00:01\n",
      "   ---------------------------------------- 345.4/345.4 kB 5.3 MB/s eta 0:00:00\n",
      "Installing collected packages: pytz, tzdata, numpy, pandas\n",
      "Successfully installed numpy-1.26.4 pandas-2.2.1 pytz-2024.1 tzdata-2024.1\n"
     ]
    }
   ],
   "source": [
    "pip install pandas"
   ]
  },
  {
   "cell_type": "code",
   "execution_count": 3,
   "metadata": {},
   "outputs": [],
   "source": [
    "import pandas as pd"
   ]
  },
  {
   "cell_type": "code",
   "execution_count": 4,
   "metadata": {},
   "outputs": [
    {
     "data": {
      "text/html": [
       "<div>\n",
       "<style scoped>\n",
       "    .dataframe tbody tr th:only-of-type {\n",
       "        vertical-align: middle;\n",
       "    }\n",
       "\n",
       "    .dataframe tbody tr th {\n",
       "        vertical-align: top;\n",
       "    }\n",
       "\n",
       "    .dataframe thead th {\n",
       "        text-align: right;\n",
       "    }\n",
       "</style>\n",
       "<table border=\"1\" class=\"dataframe\">\n",
       "  <thead>\n",
       "    <tr style=\"text-align: right;\">\n",
       "      <th></th>\n",
       "      <th>tipo de carro</th>\n",
       "      <th>tipo de direcao</th>\n",
       "      <th>tipo de pneu</th>\n",
       "      <th>faixa de preco</th>\n",
       "      <th>potencia-CV</th>\n",
       "      <th>velocidade de cruzeiro</th>\n",
       "    </tr>\n",
       "  </thead>\n",
       "  <tbody>\n",
       "    <tr>\n",
       "      <th>0</th>\n",
       "      <td>sedan</td>\n",
       "      <td>hidraulica</td>\n",
       "      <td>radial</td>\n",
       "      <td>alto</td>\n",
       "      <td>120</td>\n",
       "      <td>True</td>\n",
       "    </tr>\n",
       "    <tr>\n",
       "      <th>1</th>\n",
       "      <td>SUV</td>\n",
       "      <td>eletrica</td>\n",
       "      <td>diagonal</td>\n",
       "      <td>medio</td>\n",
       "      <td>130</td>\n",
       "      <td>False</td>\n",
       "    </tr>\n",
       "    <tr>\n",
       "      <th>2</th>\n",
       "      <td>hatchback</td>\n",
       "      <td>mecanica</td>\n",
       "      <td>radial</td>\n",
       "      <td>baixo</td>\n",
       "      <td>100</td>\n",
       "      <td>True</td>\n",
       "    </tr>\n",
       "    <tr>\n",
       "      <th>3</th>\n",
       "      <td>caminhonete</td>\n",
       "      <td>eletrica</td>\n",
       "      <td>diagonal</td>\n",
       "      <td>alto</td>\n",
       "      <td>180</td>\n",
       "      <td>True</td>\n",
       "    </tr>\n",
       "  </tbody>\n",
       "</table>\n",
       "</div>"
      ],
      "text/plain": [
       "  tipo de carro tipo de direcao tipo de pneu faixa de preco  potencia-CV  \\\n",
       "0         sedan      hidraulica       radial           alto          120   \n",
       "1           SUV        eletrica     diagonal          medio          130   \n",
       "2     hatchback        mecanica       radial          baixo          100   \n",
       "3   caminhonete        eletrica     diagonal           alto          180   \n",
       "\n",
       "   velocidade de cruzeiro  \n",
       "0                    True  \n",
       "1                   False  \n",
       "2                    True  \n",
       "3                    True  "
      ]
     },
     "execution_count": 4,
     "metadata": {},
     "output_type": "execute_result"
    }
   ],
   "source": [
    "dados = {\n",
    "    'tipo de carro': ['sedan', 'SUV', 'hatchback', 'caminhonete'],\n",
    "    'tipo de direcao': ['hidraulica', 'eletrica', 'mecanica', 'eletrica'],\n",
    "    'tipo de pneu': ['radial', 'diagonal', 'radial', 'diagonal'],\n",
    "    'faixa de preco': ['alto', 'medio', 'baixo', 'alto'],\n",
    "    'potencia-CV': [120, 130, 100, 180],\n",
    "    'velocidade de cruzeiro': [True, False, True, True]\n",
    "}\n",
    "\n",
    "df_carros = pd.DataFrame(dados)\n",
    "df_carros"
   ]
  },
  {
   "cell_type": "code",
   "execution_count": 5,
   "metadata": {},
   "outputs": [
    {
     "name": "stdout",
     "output_type": "stream",
     "text": [
      "<class 'pandas.core.frame.DataFrame'>\n",
      "RangeIndex: 4 entries, 0 to 3\n",
      "Data columns (total 6 columns):\n",
      " #   Column                  Non-Null Count  Dtype \n",
      "---  ------                  --------------  ----- \n",
      " 0   tipo de carro           4 non-null      object\n",
      " 1   tipo de direcao         4 non-null      object\n",
      " 2   tipo de pneu            4 non-null      object\n",
      " 3   faixa de preco          4 non-null      object\n",
      " 4   potencia-CV             4 non-null      int64 \n",
      " 5   velocidade de cruzeiro  4 non-null      bool  \n",
      "dtypes: bool(1), int64(1), object(4)\n",
      "memory usage: 296.0+ bytes\n"
     ]
    }
   ],
   "source": [
    "# mostra as informacoes, desde a quantidade ate o tipo dos dados e os nomes das variaveis \n",
    "df_carros.info() "
   ]
  },
  {
   "cell_type": "code",
   "execution_count": 6,
   "metadata": {},
   "outputs": [
    {
     "data": {
      "text/html": [
       "<div>\n",
       "<style scoped>\n",
       "    .dataframe tbody tr th:only-of-type {\n",
       "        vertical-align: middle;\n",
       "    }\n",
       "\n",
       "    .dataframe tbody tr th {\n",
       "        vertical-align: top;\n",
       "    }\n",
       "\n",
       "    .dataframe thead th {\n",
       "        text-align: right;\n",
       "    }\n",
       "</style>\n",
       "<table border=\"1\" class=\"dataframe\">\n",
       "  <thead>\n",
       "    <tr style=\"text-align: right;\">\n",
       "      <th></th>\n",
       "      <th>tipo de carro</th>\n",
       "      <th>tipo de direcao</th>\n",
       "      <th>tipo de pneu</th>\n",
       "      <th>faixa de preco</th>\n",
       "      <th>potencia-CV</th>\n",
       "      <th>velocidade de cruzeiro</th>\n",
       "    </tr>\n",
       "  </thead>\n",
       "  <tbody>\n",
       "    <tr>\n",
       "      <th>0</th>\n",
       "      <td>sedan</td>\n",
       "      <td>hidraulica</td>\n",
       "      <td>radial</td>\n",
       "      <td>alto</td>\n",
       "      <td>120</td>\n",
       "      <td>True</td>\n",
       "    </tr>\n",
       "    <tr>\n",
       "      <th>1</th>\n",
       "      <td>SUV</td>\n",
       "      <td>eletrica</td>\n",
       "      <td>diagonal</td>\n",
       "      <td>medio</td>\n",
       "      <td>130</td>\n",
       "      <td>False</td>\n",
       "    </tr>\n",
       "    <tr>\n",
       "      <th>2</th>\n",
       "      <td>hatchback</td>\n",
       "      <td>mecanica</td>\n",
       "      <td>radial</td>\n",
       "      <td>baixo</td>\n",
       "      <td>100</td>\n",
       "      <td>True</td>\n",
       "    </tr>\n",
       "  </tbody>\n",
       "</table>\n",
       "</div>"
      ],
      "text/plain": [
       "  tipo de carro tipo de direcao tipo de pneu faixa de preco  potencia-CV  \\\n",
       "0         sedan      hidraulica       radial           alto          120   \n",
       "1           SUV        eletrica     diagonal          medio          130   \n",
       "2     hatchback        mecanica       radial          baixo          100   \n",
       "\n",
       "   velocidade de cruzeiro  \n",
       "0                    True  \n",
       "1                   False  \n",
       "2                    True  "
      ]
     },
     "execution_count": 6,
     "metadata": {},
     "output_type": "execute_result"
    }
   ],
   "source": [
    "# mostra uma quantidade limitada de linhas a ser mostrada\n",
    "df_carros.head(3)"
   ]
  },
  {
   "cell_type": "code",
   "execution_count": 7,
   "metadata": {},
   "outputs": [
    {
     "data": {
      "text/plain": [
       "0          sedan\n",
       "1            SUV\n",
       "2      hatchback\n",
       "3    caminhonete\n",
       "Name: tipo de carro, dtype: object"
      ]
     },
     "execution_count": 7,
     "metadata": {},
     "output_type": "execute_result"
    }
   ],
   "source": [
    "# mostra a coluna exata do data frame\n",
    "df_carros['tipo de carro']"
   ]
  },
  {
   "cell_type": "code",
   "execution_count": 8,
   "metadata": {},
   "outputs": [
    {
     "name": "stdout",
     "output_type": "stream",
     "text": [
      "o valor minimo é 100\n",
      "o valor maximo é 180\n",
      "o valor media é 132.5\n",
      "o valor mediana é 125.0\n"
     ]
    }
   ],
   "source": [
    "print('o valor minimo é', df_carros['potencia-CV'].min())\n",
    "print('o valor maximo é', df_carros['potencia-CV'].max())\n",
    "print('o valor media é', df_carros['potencia-CV'].mean())\n",
    "print('o valor mediana é', df_carros['potencia-CV'].median())\n"
   ]
  },
  {
   "cell_type": "code",
   "execution_count": 9,
   "metadata": {},
   "outputs": [
    {
     "data": {
      "text/html": [
       "<div>\n",
       "<style scoped>\n",
       "    .dataframe tbody tr th:only-of-type {\n",
       "        vertical-align: middle;\n",
       "    }\n",
       "\n",
       "    .dataframe tbody tr th {\n",
       "        vertical-align: top;\n",
       "    }\n",
       "\n",
       "    .dataframe thead th {\n",
       "        text-align: right;\n",
       "    }\n",
       "</style>\n",
       "<table border=\"1\" class=\"dataframe\">\n",
       "  <thead>\n",
       "    <tr style=\"text-align: right;\">\n",
       "      <th></th>\n",
       "      <th>tipo de carro</th>\n",
       "      <th>tipo de direcao</th>\n",
       "      <th>tipo de pneu</th>\n",
       "      <th>faixa de preco</th>\n",
       "      <th>potencia-CV</th>\n",
       "      <th>velocidade de cruzeiro</th>\n",
       "    </tr>\n",
       "  </thead>\n",
       "  <tbody>\n",
       "    <tr>\n",
       "      <th>0</th>\n",
       "      <td>sedan</td>\n",
       "      <td>hidraulica</td>\n",
       "      <td>radial</td>\n",
       "      <td>alto</td>\n",
       "      <td>120</td>\n",
       "      <td>True</td>\n",
       "    </tr>\n",
       "  </tbody>\n",
       "</table>\n",
       "</div>"
      ],
      "text/plain": [
       "  tipo de carro tipo de direcao tipo de pneu faixa de preco  potencia-CV  \\\n",
       "0         sedan      hidraulica       radial           alto          120   \n",
       "\n",
       "   velocidade de cruzeiro  \n",
       "0                    True  "
      ]
     },
     "execution_count": 9,
     "metadata": {},
     "output_type": "execute_result"
    }
   ],
   "source": [
    "def filtra_por_valor (df_carros, coluna, valor):\n",
    "\n",
    "    return df_carros[df_carros[coluna]==valor]\n",
    "filtra_por_valor(df_carros, 'tipo de carro', 'sedan')"
   ]
  },
  {
   "cell_type": "code",
   "execution_count": 10,
   "metadata": {},
   "outputs": [
    {
     "name": "stdout",
     "output_type": "stream",
     "text": [
      "dados para sedan:\n",
      "   tipo de carro tipo de direcao tipo de pneu faixa de preco  potencia-CV  \\\n",
      "0         sedan      hidraulica       radial           alto          120   \n",
      "\n",
      "   velocidade de cruzeiro  \n",
      "0                    True  \n",
      "\n",
      "dados para hatchback:\n",
      "   tipo de carro tipo de direcao tipo de pneu faixa de preco  potencia-CV  \\\n",
      "2     hatchback        mecanica       radial          baixo          100   \n",
      "\n",
      "   velocidade de cruzeiro  \n",
      "2                    True  \n",
      "\n"
     ]
    }
   ],
   "source": [
    "carro_desejado = ['sedan', 'hatchback']\n",
    "\n",
    "# .loc - seleciona uma coluna especifica\n",
    "for carro in carro_desejado:\n",
    "    dados = df_carros.loc[df_carros['tipo de carro'] == carro]\n",
    "    print(f'dados para {carro}:\\n {dados}\\n')"
   ]
  }
 ],
 "metadata": {
  "kernelspec": {
   "display_name": "Python 3",
   "language": "python",
   "name": "python3"
  },
  "language_info": {
   "codemirror_mode": {
    "name": "ipython",
    "version": 3
   },
   "file_extension": ".py",
   "mimetype": "text/x-python",
   "name": "python",
   "nbconvert_exporter": "python",
   "pygments_lexer": "ipython3",
   "version": "3.11.8"
  }
 },
 "nbformat": 4,
 "nbformat_minor": 2
}
