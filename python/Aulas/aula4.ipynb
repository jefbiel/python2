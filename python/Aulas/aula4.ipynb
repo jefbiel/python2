{
 "cells": [
  {
   "cell_type": "code",
   "execution_count": 2,
   "metadata": {},
   "outputs": [
    {
     "name": "stdout",
     "output_type": "stream",
     "text": [
      "Requirement already satisfied: numpy in c:\\users\\adnar\\appdata\\local\\packages\\pythonsoftwarefoundation.python.3.11_qbz5n2kfra8p0\\localcache\\local-packages\\python311\\site-packages (1.26.4)Note: you may need to restart the kernel to use updated packages.\n",
      "\n"
     ]
    }
   ],
   "source": [
    "pip install numpy\n"
   ]
  },
  {
   "cell_type": "code",
   "execution_count": 3,
   "metadata": {},
   "outputs": [],
   "source": [
    "import numpy as np\n",
    "import pandas as pd"
   ]
  },
  {
   "cell_type": "code",
   "execution_count": 4,
   "metadata": {},
   "outputs": [
    {
     "data": {
      "text/plain": [
       "array([ 1,  2,  3,  4,  5,  6,  7,  8,  9, 10])"
      ]
     },
     "execution_count": 4,
     "metadata": {},
     "output_type": "execute_result"
    }
   ],
   "source": [
    "array = np.array([1,2,3,4,5,6,7,8,9,10])\n",
    "array"
   ]
  },
  {
   "cell_type": "code",
   "execution_count": 5,
   "metadata": {},
   "outputs": [
    {
     "data": {
      "text/plain": [
       "[1, 2, 3, 4, 5, 6, 7, 8, 9, 10]"
      ]
     },
     "execution_count": 5,
     "metadata": {},
     "output_type": "execute_result"
    }
   ],
   "source": [
    "lista = [1,2,3,4,5,6,7,8,9,10]\n",
    "\n",
    "lista"
   ]
  },
  {
   "cell_type": "code",
   "execution_count": 6,
   "metadata": {},
   "outputs": [
    {
     "data": {
      "text/plain": [
       "(1, 2, 3, 4, 5, 6, 7, 8, 9, 10)"
      ]
     },
     "execution_count": 6,
     "metadata": {},
     "output_type": "execute_result"
    }
   ],
   "source": [
    "tupla = (1,2,3,4,5,6,7,8,9,10)\n",
    "tupla"
   ]
  },
  {
   "cell_type": "markdown",
   "metadata": {},
   "source": [
    "# Exercícios Numpy"
   ]
  },
  {
   "cell_type": "code",
   "execution_count": 7,
   "metadata": {},
   "outputs": [],
   "source": [
    "array1to10 = np.array([1,2,3,4,5,6,7,8,9,10])"
   ]
  },
  {
   "cell_type": "markdown",
   "metadata": {},
   "source": [
    "2. acessar o quarto valor por numpy e imprimi-lo"
   ]
  },
  {
   "cell_type": "code",
   "execution_count": 8,
   "metadata": {},
   "outputs": [
    {
     "name": "stdout",
     "output_type": "stream",
     "text": [
      "O quarto elemento do array é: 4\n"
     ]
    }
   ],
   "source": [
    "quarto_elemento = array1to10[3]\n",
    "print(\"O quarto elemento do array é:\", quarto_elemento)"
   ]
  },
  {
   "cell_type": "markdown",
   "metadata": {},
   "source": [
    "3. soma os numeros de 1 a 5 e depois os numeros de 6 a 10"
   ]
  },
  {
   "cell_type": "code",
   "execution_count": 9,
   "metadata": {},
   "outputs": [
    {
     "name": "stdout",
     "output_type": "stream",
     "text": [
      "O a soma dos array é: [ 7  9 11 13 15]\n"
     ]
    }
   ],
   "source": [
    "array1to5 = np.array([1,2,3,4,5])\n",
    "array6to10 = np.array([6,7,8,9,10])\n",
    "soma_array = array1to5 + array6to10\n",
    "print(\"O a soma dos array é:\", soma_array)"
   ]
  },
  {
   "cell_type": "markdown",
   "metadata": {},
   "source": [
    "4. crie um array de 1 a 10 e mostre somente numeros acima de 5"
   ]
  },
  {
   "cell_type": "code",
   "execution_count": 10,
   "metadata": {},
   "outputs": [
    {
     "name": "stdout",
     "output_type": "stream",
     "text": [
      "Os valores maiores que 5 é: [ 6  7  8  9 10]\n"
     ]
    }
   ],
   "source": [
    "array_maior_5 = array1to10[array1to10>5]\n",
    "print(\"Os valores maiores que 5 é:\", array_maior_5)"
   ]
  },
  {
   "cell_type": "markdown",
   "metadata": {},
   "source": [
    "5. calcule a media e o desvio padrao contendo os numeros de 1 a 10"
   ]
  },
  {
   "cell_type": "code",
   "execution_count": 11,
   "metadata": {},
   "outputs": [
    {
     "name": "stdout",
     "output_type": "stream",
     "text": [
      "media 5.5\n",
      "desvio padrao 2.8722813232690143\n"
     ]
    }
   ],
   "source": [
    "array_1_to_10 = np.array([1,2,3,4,5,6,7,8,9,10])\n",
    "\n",
    "print('media', array_1_to_10.mean())\n",
    "print('desvio padrao', array_1_to_10.std())"
   ]
  },
  {
   "cell_type": "markdown",
   "metadata": {},
   "source": [
    "6. concatene dois numpy array, contendo os numeros de 1 a 5 e 6 a 10 em um unico array"
   ]
  },
  {
   "cell_type": "code",
   "execution_count": 12,
   "metadata": {},
   "outputs": [
    {
     "name": "stdout",
     "output_type": "stream",
     "text": [
      "concatenacao [ 1  2  3  4  5  6  7  8  9 10]\n"
     ]
    }
   ],
   "source": [
    "arr1 = np.array([1,2,3,4,5])\n",
    "arr2 = np.array([6,7,8,9,10])\n",
    "\n",
    "arr_concat = np.concatenate([arr1, arr2])\n",
    "print('concatenacao', arr_concat)"
   ]
  },
  {
   "cell_type": "markdown",
   "metadata": {},
   "source": [
    "7. subitaria os numeros de 1 a 10 por outro de 10 a 1"
   ]
  },
  {
   "cell_type": "code",
   "execution_count": 13,
   "metadata": {},
   "outputs": [
    {
     "name": "stdout",
     "output_type": "stream",
     "text": [
      "resultado da subitarcao: [-9 -7 -5 -3 -1  1  3  5  7  9]\n"
     ]
    }
   ],
   "source": [
    "arr1 = np.arange(1,11)\n",
    "arr2 = np.arange(10,0,-1)\n",
    "\n",
    "resul = arr1 - arr2\n",
    "\n",
    "print(\"resultado da subitarcao:\", resul)\n"
   ]
  },
  {
   "cell_type": "markdown",
   "metadata": {},
   "source": [
    "8. ordende os numeros de forma decrescente os numeros de 1 a 10"
   ]
  },
  {
   "cell_type": "code",
   "execution_count": 14,
   "metadata": {},
   "outputs": [
    {
     "data": {
      "text/plain": [
       "array([10,  9,  8,  7,  6,  5,  4,  3,  2,  1])"
      ]
     },
     "execution_count": 14,
     "metadata": {},
     "output_type": "execute_result"
    }
   ],
   "source": [
    "# arange - mesma coisa de range no pandas\n",
    "arr1 = np.arange(1,11)\n",
    "\n",
    "arr_ordendo = np.sort(arr1)[::-1]\n",
    "arr_ordendo\n"
   ]
  },
  {
   "cell_type": "markdown",
   "metadata": {},
   "source": [
    "9. verifique se a valores dulicados em um array de 1 a 10"
   ]
  },
  {
   "cell_type": "code",
   "execution_count": 15,
   "metadata": {},
   "outputs": [
    {
     "name": "stdout",
     "output_type": "stream",
     "text": [
      "valores duplicados: True\n"
     ]
    }
   ],
   "source": [
    "arr = np.array([0,4,2,6,5,9,6])\n",
    "# size - verifica o tamanho do array\n",
    "# unique - unicao valor\n",
    "print(\"valores duplicados:\", np.unique(arr).size != arr.size)"
   ]
  },
  {
   "cell_type": "markdown",
   "metadata": {},
   "source": [
    "10. use slicing para selecionar os elementos do 3 ao 7 elementos"
   ]
  },
  {
   "cell_type": "code",
   "execution_count": 16,
   "metadata": {},
   "outputs": [
    {
     "name": "stdout",
     "output_type": "stream",
     "text": [
      "Slicing do terceiro ao setimo termo: [3 4 5 6 7]\n"
     ]
    }
   ],
   "source": [
    "arr= np.array([1,2,3,4,5,6,7,8,9,10])\n",
    "\n",
    "print(\"Slicing do terceiro ao setimo termo:\", arr[2:7])"
   ]
  },
  {
   "cell_type": "markdown",
   "metadata": {},
   "source": [
    "## Exercicios em Python (criando dicionarios)"
   ]
  },
  {
   "cell_type": "code",
   "execution_count": 17,
   "metadata": {},
   "outputs": [
    {
     "data": {
      "text/plain": [
       "{'joao': 85, 'Maria': 90, 'Pedro': 88}"
      ]
     },
     "execution_count": 17,
     "metadata": {},
     "output_type": "execute_result"
    }
   ],
   "source": [
    "notas = {'joao':85, 'Maria':90, 'Pedro':88}\n",
    "notas"
   ]
  },
  {
   "cell_type": "code",
   "execution_count": 18,
   "metadata": {},
   "outputs": [
    {
     "data": {
      "text/plain": [
       "{'joao': 85, 'Maria': 90, 'Pedro': 88}"
      ]
     },
     "execution_count": 18,
     "metadata": {},
     "output_type": "execute_result"
    }
   ],
   "source": [
    "notas = {'joao':85, 'Maria':90, 'Pedro':88}\n",
    "notas"
   ]
  },
  {
   "cell_type": "code",
   "execution_count": 19,
   "metadata": {},
   "outputs": [
    {
     "data": {
      "text/plain": [
       "85"
      ]
     },
     "execution_count": 19,
     "metadata": {},
     "output_type": "execute_result"
    }
   ],
   "source": [
    "notas['joao']"
   ]
  },
  {
   "cell_type": "code",
   "execution_count": 20,
   "metadata": {},
   "outputs": [
    {
     "data": {
      "text/plain": [
       "85"
      ]
     },
     "execution_count": 20,
     "metadata": {},
     "output_type": "execute_result"
    }
   ],
   "source": [
    "notas['joao']"
   ]
  },
  {
   "cell_type": "code",
   "execution_count": 21,
   "metadata": {},
   "outputs": [
    {
     "ename": "NameError",
     "evalue": "name 'notas_alunos' is not defined",
     "output_type": "error",
     "traceback": [
      "\u001b[1;31m---------------------------------------------------------------------------\u001b[0m",
      "\u001b[1;31mNameError\u001b[0m                                 Traceback (most recent call last)",
      "Cell \u001b[1;32mIn[21], line 2\u001b[0m\n\u001b[0;32m      1\u001b[0m \u001b[38;5;66;03m# transforma em tabela\u001b[39;00m\n\u001b[1;32m----> 2\u001b[0m df \u001b[38;5;241m=\u001b[39m pd\u001b[38;5;241m.\u001b[39mDataFrame(\u001b[43mnotas_alunos\u001b[49m)\n\u001b[0;32m      3\u001b[0m df\n",
      "\u001b[1;31mNameError\u001b[0m: name 'notas_alunos' is not defined"
     ]
    }
   ],
   "source": [
    "# transforma em tabela\n",
    "df = pd.DataFrame(notas_alunos)\n",
    "df"
   ]
  },
  {
   "cell_type": "code",
   "execution_count": null,
   "metadata": {},
   "outputs": [],
   "source": [
    "# acessa as notas de um aluno especifico\n",
    "nota_maria_mat = notas_alunos['Maria']['matematica']\n",
    "print('a nota de maria em matematica é:', nota_maria_mat)"
   ]
  },
  {
   "cell_type": "code",
   "execution_count": null,
   "metadata": {},
   "outputs": [],
   "source": [
    "# add um novo aluno\n",
    "notas_alunos['Ana'] = {'matematica':48, 'portugues':25, 'ciencias':18}\n",
    "notas_alunos"
   ]
  },
  {
   "cell_type": "code",
   "execution_count": null,
   "metadata": {},
   "outputs": [],
   "source": [
    "df = pd.DataFrame(notas_alunos)\n",
    "df"
   ]
  },
  {
   "cell_type": "code",
   "execution_count": null,
   "metadata": {},
   "outputs": [],
   "source": [
    "df['Joao']"
   ]
  },
  {
   "cell_type": "code",
   "execution_count": null,
   "metadata": {},
   "outputs": [],
   "source": [
    "df"
   ]
  },
  {
   "cell_type": "code",
   "execution_count": null,
   "metadata": {},
   "outputs": [],
   "source": [
    "df['Joao']['matematica']"
   ]
  },
  {
   "cell_type": "code",
   "execution_count": null,
   "metadata": {},
   "outputs": [],
   "source": [
    "dados_dois_alunos = df.loc[:, ['Joao', 'Maria', 'Ana']]\n",
    "dados_dois_alunos"
   ]
  },
  {
   "cell_type": "code",
   "execution_count": null,
   "metadata": {},
   "outputs": [],
   "source": [
    "# criar uma lsita de datas no formato desejado\n",
    "datas = ['01-01-2024', '01-02-2024', '01-03-2024']\n",
    "\n",
    "# to_datetime - converter datas para o formato datatime\n",
    "datas_formadas = pd.to_datetime(datas, format='%d-%m-%Y')"
   ]
  },
  {
   "cell_type": "code",
   "execution_count": null,
   "metadata": {},
   "outputs": [],
   "source": [
    "df['Data'] = pd.to_datetime(df['Data'], format='%d-%m-%Y')\n",
    "df['Ano'] = df['Data'].dt.year\n",
    "df['Mes'] = df['Data'].dt.month\n",
    "\n",
    "df"
   ]
  },
  {
   "cell_type": "code",
   "execution_count": null,
   "metadata": {},
   "outputs": [],
   "source": [
    "df.to_csv('notas e datas 2.csv')"
   ]
  },
  {
   "cell_type": "code",
   "execution_count": null,
   "metadata": {},
   "outputs": [],
   "source": [
    "df.to_csv('notas e datas 2.csv')"
   ]
  },
  {
   "cell_type": "code",
   "execution_count": null,
   "metadata": {},
   "outputs": [],
   "source": [
    "df.to_csv('notas e datas 2.csv')"
   ]
  },
  {
   "cell_type": "markdown",
   "metadata": {},
   "source": [
    "## Desafio\n"
   ]
  },
  {
   "cell_type": "code",
   "execution_count": null,
   "metadata": {},
   "outputs": [],
   "source": [
    "df = {\n",
    "    '01-01-2023': {'Celular':150, 'Tablet':100, 'Notebook':80},\n",
    "    '01-02-2023': {'Celular':180, 'Tablet':120, 'Notebook':90},\n",
    "    '01-03-2023': {'Celular':200, 'Tablet':130, 'Notebook':100}\n",
    "}\n",
    "df = pd.DataFrame(df)\n",
    "df"
   ]
  },
  {
   "cell_type": "code",
   "execution_count": null,
   "metadata": {},
   "outputs": [],
   "source": [
    "dados = {\n",
    "    \n",
    "    'produto': ['Celular','Celular','Celular', 'Tablet','Tablet','Tablet','Notebook', 'Notebook', 'Notebook'],\n",
    "    'mes': ['01-01-2023', '01-02-2023', '01-03-2023', '01-01-2023', '01-02-2023', '01-03-2023', '01-01-2023', '01-02-2023', '01-03-2023'],\n",
    "    'vendas': [150,180,200,100,120,130,80,90,100]\n",
    "}\n",
    "\n",
    "df = pd.DataFrame(dados)\n",
    "df"
   ]
  },
  {
   "cell_type": "code",
   "execution_count": null,
   "metadata": {},
   "outputs": [],
   "source": [
    "df[['vendas', 'produto']].min()"
   ]
  },
  {
   "cell_type": "code",
   "execution_count": null,
   "metadata": {},
   "outputs": [],
   "source": [
    "df['mes'] = pd.to_datetime(df['mes'], format='%d-%m-%Y')\n",
    "df['ano'] = df['mes'].dt.year\n",
    "df['mes'] = df['mes'].dt.month\n",
    "\n",
    "df"
   ]
  },
  {
   "cell_type": "code",
   "execution_count": null,
   "metadata": {},
   "outputs": [],
   "source": [
    "# converter o data frame pra um pandas series, indexados pelo mes\n",
    "vendas_series = pd.Series(df['vendas'].values, index= df['mes'])"
   ]
  },
  {
   "cell_type": "code",
   "execution_count": null,
   "metadata": {},
   "outputs": [],
   "source": [
    "# agrupamento de produtos somando os valores\n",
    "produto_mais_vendido = df.groupby('produto')['vendas'].sum()\n",
    "produto_mais_vendido"
   ]
  },
  {
   "cell_type": "code",
   "execution_count": null,
   "metadata": {},
   "outputs": [],
   "source": [
    "media_vendas = vendas_series.mean()\n",
    "media_vendas"
   ]
  },
  {
   "cell_type": "code",
   "execution_count": null,
   "metadata": {},
   "outputs": [],
   "source": [
    "median_vendas = vendas_series.median()\n",
    "median_vendas"
   ]
  },
  {
   "cell_type": "code",
   "execution_count": null,
   "metadata": {},
   "outputs": [],
   "source": [
    "max_vendas = vendas_series.max()\n",
    "max_vendas"
   ]
  },
  {
   "cell_type": "code",
   "execution_count": null,
   "metadata": {},
   "outputs": [],
   "source": [
    "min_vendas = vendas_series.min()\n",
    "min_vendas"
   ]
  },
  {
   "cell_type": "code",
   "execution_count": null,
   "metadata": {},
   "outputs": [],
   "source": [
    "pip install matplotlib"
   ]
  },
  {
   "cell_type": "code",
   "execution_count": null,
   "metadata": {},
   "outputs": [],
   "source": [
    "import matplotlib.pyplot as plt\n",
    "\n",
    "# cria um grafico em linha do mais baixo ao mais alto\n",
    "df_grouped = df.groupby(['mes','produto'])['vendas'].sum().unstack()\n",
    "\n",
    "import matplotlib.pyplot as plt\n",
    "\n",
    "df_grouped = df.groupby(['mes', 'produto'])['vendas'].sum().unstack()\n",
    "\n",
    "plt.figure(figsize=(10, 6))\n",
    "df_grouped.plot(kind='bar', stacked=False)\n",
    "                \n",
    "plt.title(\"Vendas por Produto ao longo do Tempo\")\n",
    "plt.xlabel(\"Mês\")\n",
    "plt.ylabel(\"Vendas\")\n",
    "plt.xticks(rotation=30)\n",
    "plt.legend(title='Produto')\n",
    "plt.grid(axis='y')\n",
    "plt.tight_layout()\n",
    "plt.show()\n"
   ]
  },
  {
   "cell_type": "code",
   "execution_count": null,
   "metadata": {},
   "outputs": [],
   "source": [
    "\n",
    "# calcular a variacao percentual entre as vendas de um mes para o proximo \n",
    "df['variacao percentual'] = df.groupby('produto')['vendas'].pct_change()\n",
    "df"
   ]
  },
  {
   "cell_type": "code",
   "execution_count": null,
   "metadata": {},
   "outputs": [],
   "source": [
    "# identificar os meses com maior e menor variacao percentual\n",
    "# idmax- trax o valor maior do index\n",
    "mes_maior = df.loc[df['variacao percentual'].idxmax()]['mes']\n",
    "mes_maior"
   ]
  },
  {
   "cell_type": "code",
   "execution_count": null,
   "metadata": {},
   "outputs": [],
   "source": [
    "# idmin- trax o valor menor do index\n",
    "mes_menor = df.loc[df['variacao percentual'].idxmin()]['mes']\n",
    "mes_menor"
   ]
  },
  {
   "cell_type": "code",
   "execution_count": null,
   "metadata": {},
   "outputs": [],
   "source": [
    "novos_dados = {\n",
    "    \n",
    "    'produto': ['Ar Frio','Ar Frio','Ar Frio', 'Ar Frio', 'Ar Frio', 'Ventilador','Ventilador','Ventilador','Ventilador','Ventilador','Ar Quente', 'Ar Quente', 'Ar Quente','Ar Quente','Ar Quente'],\n",
    "    'mes': ['1-1-2024', '1-2-2024', '1-3-2024', '1-4-2024', '1-5-2024', '1-1-2024', '1-2-2024', '1-3-2024', '1-4-2024', '1-5-2024','1-1-2024', '1-2-2024', '1-3-2024', '1-4-2024', '1-5-2024',],\n",
    "    'vendas': [100,120,130,110,150,150,140,160,130,170,80,90,100,85,95]\n",
    "}\n",
    "\n",
    "df = pd.DataFrame(novos_dados)\n",
    "df"
   ]
  },
  {
   "cell_type": "code",
   "execution_count": null,
   "metadata": {},
   "outputs": [],
   "source": [
    "exel = pd.read_csv(r'C:\\Users\\logonrmlocal\\Desktop\\Python_2-semestre\\Aulas\\aula 4\\notas e datas 2.csv')\n",
    "exel"
   ]
  },
  {
   "cell_type": "code",
   "execution_count": null,
   "metadata": {},
   "outputs": [],
   "source": [
    "df.to_csv('tabela com as correntes de ar data e vendas.csv')"
   ]
  }
 ],
 "metadata": {
  "kernelspec": {
   "display_name": "Python 3",
   "language": "python",
   "name": "python3"
  },
  "language_info": {
   "codemirror_mode": {
    "name": "ipython",
    "version": 3
   },
   "file_extension": ".py",
   "mimetype": "text/x-python",
   "name": "python",
   "nbconvert_exporter": "python",
   "pygments_lexer": "ipython3",
   "version": "3.11.8"
  }
 },
 "nbformat": 4,
 "nbformat_minor": 2
}
