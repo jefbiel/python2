{
 "cells": [
  {
   "attachments": {},
   "cell_type": "markdown",
   "metadata": {},
   "source": [
    "# funcao lambda e lambda em funcao "
   ]
  },
  {
   "cell_type": "code",
   "execution_count": 16,
   "metadata": {},
   "outputs": [
    {
     "name": "stdout",
     "output_type": "stream",
     "text": [
      "4\n",
      "8\n",
      "36\n"
     ]
    }
   ],
   "source": [
    "# multiplicacao\n",
    "quadrado  = lambda x: x*x\n",
    "print(quadrado(2))\n",
    "\n",
    "# elevar o numero ao quadrado\n",
    "\n",
    "dupliacado = lambda x: x*2\n",
    "print(dupliacado(4))\n",
    "\n",
    "# elevar ao cubo\n",
    "\n",
    "cubo = lambda x: x**2\n",
    "print(cubo(6))\n",
    "\n",
    "\n"
   ]
  },
  {
   "cell_type": "code",
   "execution_count": 17,
   "metadata": {},
   "outputs": [
    {
     "name": "stdout",
     "output_type": "stream",
     "text": [
      "nome Gabriel, \n",
      "sobrenome Mendonça\n"
     ]
    }
   ],
   "source": [
    "# nome competo\n",
    "\n",
    "nomeCompleto = lambda nome, sobrenome: f'nome {nome}, \\nsobrenome {sobrenome}'\n",
    "\n",
    "print(nomeCompleto('Gabriel','Mendonça'))"
   ]
  },
  {
   "cell_type": "code",
   "execution_count": 18,
   "metadata": {},
   "outputs": [
    {
     "name": "stdout",
     "output_type": "stream",
     "text": [
      "True\n",
      "True\n",
      "False\n"
     ]
    }
   ],
   "source": [
    "comecaG = lambda x:True if x.startswith('G') else False\n",
    "print(comecaG('Gabriela'))\n",
    "print(comecaG('Gambit'))\n",
    "print(comecaG('Bebe'))"
   ]
  },
  {
   "cell_type": "code",
   "execution_count": 19,
   "metadata": {},
   "outputs": [
    {
     "name": "stdout",
     "output_type": "stream",
     "text": [
      "True\n",
      "False\n",
      "True\n",
      "False\n"
     ]
    }
   ],
   "source": [
    "impar = lambda x:True if x %2 == 1 else False\n",
    "print(impar(1))\n",
    "print(impar(8))\n",
    "\n",
    "par = lambda x:True if x %2 != 1 else False\n",
    "print(par(12))\n",
    "print(par(9))"
   ]
  },
  {
   "cell_type": "code",
   "execution_count": 20,
   "metadata": {},
   "outputs": [
    {
     "name": "stdout",
     "output_type": "stream",
     "text": [
      "aldulto\n",
      "adolecente\n",
      "crianca\n"
     ]
    }
   ],
   "source": [
    "classificarIdade = lambda idade:'crianca' if idade <13 else('adolecente' if idade <18 else \"aldulto\")\n",
    "print(classificarIdade(21))\n",
    "print(classificarIdade(15))\n",
    "print(classificarIdade(4))"
   ]
  },
  {
   "cell_type": "code",
   "execution_count": 21,
   "metadata": {},
   "outputs": [
    {
     "name": "stdout",
     "output_type": "stream",
     "text": [
      "58.8\n",
      "55.0\n",
      "escala invalida\n"
     ]
    }
   ],
   "source": [
    "convTemp = lambda temp, escala: (temp + 9/5) +32 if escala == 'C' else (temp - 32) * 5/6 if escala == 'F' else 'escala invalida'\n",
    "print(convTemp(25,'C'))\n",
    "print(convTemp(98,'F'))\n",
    "print(convTemp(100,'K'))"
   ]
  },
  {
   "cell_type": "code",
   "execution_count": 22,
   "metadata": {},
   "outputs": [
    {
     "name": "stdout",
     "output_type": "stream",
     "text": [
      "20\n"
     ]
    }
   ],
   "source": [
    "def constQuadrado(a,b,c):\n",
    "    # retorna a funcao de f(x) = ax**2 +bx + c\n",
    "    return lambda x: a*x**2 +b*x + c\n",
    "\n",
    "f = constQuadrado(2,3,6)\n",
    "print(f(2))"
   ]
  },
  {
   "cell_type": "code",
   "execution_count": 23,
   "metadata": {},
   "outputs": [],
   "source": [
    "# ex 1; crie uma funcao dentro de uma funcao para calcular a media ponderada de dois numeros\n",
    "\n",
    "# ex 2; crie uma funcao para calcular o perimetro de um retangulo com base na altura e largura\n",
    "\n",
    "# ex 3; calcule o volume de um retangulo usando funcao\n",
    "\n",
    "# ex 4; funcao para calcular a equacao de newton(f = m *a ), dando os dois perimetros m e a"
   ]
  },
  {
   "cell_type": "code",
   "execution_count": 24,
   "metadata": {},
   "outputs": [
    {
     "name": "stdout",
     "output_type": "stream",
     "text": [
      "3.0\n"
     ]
    }
   ],
   "source": [
    "def Ponderada ( peso1, peso2):\n",
    "    return lambda x, y: (x*peso1 + y*peso2) / (peso1 + peso2)\n",
    "\n",
    "f = Ponderada(2,2)\n",
    "\n",
    "print(f(2,4))"
   ]
  },
  {
   "cell_type": "code",
   "execution_count": 25,
   "metadata": {},
   "outputs": [
    {
     "name": "stdout",
     "output_type": "stream",
     "text": [
      "8\n"
     ]
    },
    {
     "data": {
      "text/plain": [
       "16"
      ]
     },
     "execution_count": 25,
     "metadata": {},
     "output_type": "execute_result"
    }
   ],
   "source": [
    "def Perimetro():\n",
    "    return lambda largura, altura: (largura + altura) * 2\n",
    "\n",
    "f= Perimetro()\n",
    "print(f(2,2))\n",
    "\n",
    "# prof:\n",
    "def criarPerimetro(largura, altura):\n",
    "    return lambda: 2*(largura + altura)\n",
    "peri = criarPerimetro(5,3)\n",
    "resu = peri()\n",
    "resu"
   ]
  },
  {
   "cell_type": "code",
   "execution_count": 26,
   "metadata": {},
   "outputs": [
    {
     "name": "stdout",
     "output_type": "stream",
     "text": [
      "24\n"
     ]
    }
   ],
   "source": [
    "# alt = int(input('qual e a altura'))\n",
    "# larg = int(input('qual e a largura'))\n",
    "# profun = int(input('qual e a profundidade'))\n",
    "\n",
    "# def Volume():\n",
    "#     return lambda alt, larg, profun: alt * larg * profun\n",
    "\n",
    "# f= Volume()\n",
    "# print(f(alt, larg, profun))\n",
    "\n",
    "# prof\n",
    "\n",
    "def Vol(largura, altura, profundidade):\n",
    "    return lambda: largura * altura*profundidade\n",
    "calVol = Vol(2,3,4)\n",
    "print(calVol())"
   ]
  },
  {
   "cell_type": "code",
   "execution_count": 27,
   "metadata": {},
   "outputs": [
    {
     "name": "stdout",
     "output_type": "stream",
     "text": [
      "12\n"
     ]
    }
   ],
   "source": [
    "def Newton():\n",
    "    return lambda massa, acele: massa * acele\n",
    "\n",
    "f = Newton()\n",
    "print(f(2,6))"
   ]
  },
  {
   "cell_type": "code",
   "execution_count": 28,
   "metadata": {},
   "outputs": [
    {
     "name": "stdout",
     "output_type": "stream",
     "text": [
      "area do quadrado:  16\n",
      "area do retangulo:  25\n",
      "area do circulo:  12.56\n",
      "area do triangulo:  12.5\n",
      "area do dodecaedromo:  forma n determinda\n"
     ]
    }
   ],
   "source": [
    "#  calcular a area de diferentes formas geometricas usando uma funcao e lambda (quadrado, retangulo, triangulo e circulo)\n",
    "\n",
    "# ** - serve para 'tirar' um elemento do dicionario\n",
    "\n",
    "def Areas(tipo, **forma):\n",
    "    areaFuncoes = { \n",
    "        'quadrado': lambda lado: lado **2,\n",
    "        'retangulo': lambda base, altura: base * altura,\n",
    "        'circulo': lambda raio: 3.14 * raio**2,\n",
    "        'triangulo': lambda base, altura: (base * altura)/2 ,\n",
    "    }\n",
    "\n",
    "    if tipo in areaFuncoes:\n",
    "        return areaFuncoes[tipo](**forma)\n",
    "    else:\n",
    "        return 'forma n determinda'\n",
    "    \n",
    "print('area do quadrado: ', Areas('quadrado', lado = 4))\n",
    "print('area do retangulo: ', Areas('retangulo', base = 5, altura = 5))\n",
    "print('area do circulo: ', Areas('circulo', raio = 2))\n",
    "print('area do triangulo: ', Areas('triangulo', base = 5, altura = 5))\n",
    "print('area do dodecaedromo: ', Areas('dodecaedromo', base = 5, altura = 5))\n"
   ]
  },
  {
   "cell_type": "code",
   "execution_count": 29,
   "metadata": {},
   "outputs": [
    {
     "data": {
      "text/plain": [
       "[2, 4, 5, 7]"
      ]
     },
     "execution_count": 29,
     "metadata": {},
     "output_type": "execute_result"
    }
   ],
   "source": [
    "numeros = [2,5,7,4]\n",
    "\n",
    "ordenar = sorted(numeros)\n",
    "ordenar"
   ]
  },
  {
   "cell_type": "code",
   "execution_count": 30,
   "metadata": {},
   "outputs": [
    {
     "data": {
      "text/plain": [
       "['a', 'b', 'c', 'd']"
      ]
     },
     "execution_count": 30,
     "metadata": {},
     "output_type": "execute_result"
    }
   ],
   "source": [
    "palavras = ['a','b','d','c']\n",
    "\n",
    "ordena = sorted(palavras)\n",
    "ordena"
   ]
  },
  {
   "cell_type": "code",
   "execution_count": 31,
   "metadata": {},
   "outputs": [
    {
     "data": {
      "text/plain": [
       "['uva', 'pera', 'abacaxi', 'laranja']"
      ]
     },
     "execution_count": 31,
     "metadata": {},
     "output_type": "execute_result"
    }
   ],
   "source": [
    "frutas = ['abacaxi', 'laranja', 'uva', 'pera']\n",
    "ordenada = sorted(frutas, key=lambda fruta: len(fruta))\n",
    "ordenada"
   ]
  },
  {
   "cell_type": "code",
   "execution_count": 32,
   "metadata": {},
   "outputs": [
    {
     "data": {
      "text/plain": [
       "[(1, 1517), (2, 8), (2, 1), (3, 2), (4, 3)]"
      ]
     },
     "execution_count": 32,
     "metadata": {},
     "output_type": "execute_result"
    }
   ],
   "source": [
    "# ordenacao de uma lista de tuplas pelo primeiro u segundo elemento\n",
    "\n",
    "tuplas = [(3,2), (2,8), (4,3), (2,1), (1,1517)]\n",
    "ordenaTupla = sorted(tuplas, key=lambda tupla: tupla[0])\n",
    "ordenaTupla"
   ]
  },
  {
   "cell_type": "code",
   "execution_count": 33,
   "metadata": {},
   "outputs": [
    {
     "name": "stdout",
     "output_type": "stream",
     "text": [
      "[(4, 'marry anne'), (5, 'marcelo'), (8, 'mark'), (10, 'ana')]\n",
      "[(10, 'ana'), (5, 'marcelo'), (8, 'mark'), (4, 'marry anne')]\n"
     ]
    }
   ],
   "source": [
    "# crie um programa para ordenar a lista abaixo pelo primeiro numero e depois pelo numero\n",
    "tupla = [(10, 'ana'), (8, 'mark'), (4, 'marry anne'), (5, 'marcelo')]\n",
    "\n",
    "numero = sorted(tupla, key=lambda tupla: tupla[0])\n",
    "\n",
    "texto = sorted(tupla, key=lambda text: text[1])\n",
    "print(numero)\n",
    "print(texto)"
   ]
  },
  {
   "cell_type": "code",
   "execution_count": 34,
   "metadata": {},
   "outputs": [],
   "source": [
    "import pandas as pd\n"
   ]
  },
  {
   "cell_type": "code",
   "execution_count": 35,
   "metadata": {},
   "outputs": [
    {
     "name": "stdout",
     "output_type": "stream",
     "text": [
      "calca - valor total em estoque 1500\n",
      "camiseta - valor total em estoque 2000\n",
      "tenis - valor total em estoque 3000\n"
     ]
    }
   ],
   "source": [
    "# gerenciamento de estoque: apresenta uma relacao entre preco e produto, com lambda e sorted\n",
    "\n",
    "\n",
    "df = {\n",
    "    ('camiseta', 100, 20),\n",
    "    ('calca', 50, 30),\n",
    "    ('tenis', 30, 100)\n",
    "}\n",
    "\n",
    "Preco = sorted(df, key=lambda produto: produto[1] * produto[2])\n",
    "\n",
    "for produto in Preco:\n",
    "    print(f'{produto[0]} - valor total em estoque {produto[1] * produto[2]}')\n",
    "\n",
    "\n"
   ]
  },
  {
   "cell_type": "code",
   "execution_count": 36,
   "metadata": {},
   "outputs": [
    {
     "data": {
      "text/plain": [
       "[('Ana', 5, 'Bacharelado', 80),\n",
       " ('Maria', 8, 'Doutorado', 85),\n",
       " ('Joao', 3, 'Mestrado', 90)]"
      ]
     },
     "execution_count": 36,
     "metadata": {},
     "output_type": "execute_result"
    }
   ],
   "source": [
    "candidatos = {\n",
    "    ('Ana', 5, 'Bacharelado', 80),\n",
    "    ('Joao', 3,'Mestrado', 90),\n",
    "    ('Maria', 8,'Doutorado', 85)\n",
    "}\n",
    "\n",
    "pontos = sorted(candidatos, key=lambda ponto: ponto[3])\n",
    "pontos\n"
   ]
  }
 ],
 "metadata": {
  "kernelspec": {
   "display_name": "Python 3",
   "language": "python",
   "name": "python3"
  },
  "language_info": {
   "codemirror_mode": {
    "name": "ipython",
    "version": 3
   },
   "file_extension": ".py",
   "mimetype": "text/x-python",
   "name": "python",
   "nbconvert_exporter": "python",
   "pygments_lexer": "ipython3",
   "version": "3.11.4"
  },
  "orig_nbformat": 4
 },
 "nbformat": 4,
 "nbformat_minor": 2
}
