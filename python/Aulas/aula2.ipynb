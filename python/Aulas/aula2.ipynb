{
 "cells": [
  {
   "cell_type": "code",
   "execution_count": 16,
   "metadata": {},
   "outputs": [],
   "source": [
    "# tupla - e parecido comuma lista, porem nao da para mudar  dados dentro delas, elas podem ser de diferentes dados, alem de ser definida por ()\n",
    "# lista - dados flexiveis, onde pode colocar, tirar e modificar os dados. nao precisa ser o mesmo dados e sao definidas por []\n",
    "# dados unidimencioal (vetor) - armazena dadps de uma direcao, e uma lista que geralmente comeca em 0, e so aceita numero\n",
    "# dados bidimencional - armazea dados em linhas e colunas. e uma colecao de ljista e vetores. e acessado por dois indices\n",
    "#  dados tridimencional\n"
   ]
  },
  {
   "cell_type": "code",
   "execution_count": 17,
   "metadata": {},
   "outputs": [
    {
     "data": {
      "text/plain": [
       "6"
      ]
     },
     "execution_count": 17,
     "metadata": {},
     "output_type": "execute_result"
    }
   ],
   "source": [
    "# tupla - sequencia imutavel de comprimento fixo, o jeito mais facil e criar uma sequancia de valores separados por virgula\n",
    "# tupla dentro da tupla:\n",
    "\n",
    "tupla_tupla = (4,5,6), (7,8)\n",
    "tupla_tupla[0][2]"
   ]
  },
  {
   "cell_type": "code",
   "execution_count": 18,
   "metadata": {},
   "outputs": [
    {
     "data": {
      "text/plain": [
       "[4, 2, 0]"
      ]
     },
     "execution_count": 18,
     "metadata": {},
     "output_type": "execute_result"
    }
   ],
   "source": [
    "# sequencia em tupla\n",
    "tupla=([4,2,0])\n",
    "tupla"
   ]
  },
  {
   "cell_type": "code",
   "execution_count": 19,
   "metadata": {},
   "outputs": [
    {
     "data": {
      "text/plain": [
       "('b', 'a', 't', 'a', 't', 'a')"
      ]
     },
     "execution_count": 19,
     "metadata": {},
     "output_type": "execute_result"
    }
   ],
   "source": [
    "# caracteres nanumeriocos\n",
    "\n",
    "tupla = tuple('batata')\n",
    "\n",
    "tupla"
   ]
  },
  {
   "cell_type": "code",
   "execution_count": 20,
   "metadata": {},
   "outputs": [
    {
     "data": {
      "text/plain": [
       "'a'"
      ]
     },
     "execution_count": 20,
     "metadata": {},
     "output_type": "execute_result"
    }
   ],
   "source": [
    "tupla = tuple('batata')\n",
    "\n",
    "tupla[3] "
   ]
  },
  {
   "cell_type": "code",
   "execution_count": 21,
   "metadata": {},
   "outputs": [
    {
     "data": {
      "text/plain": [
       "('foo', [1, 2], True)"
      ]
     },
     "execution_count": 21,
     "metadata": {},
     "output_type": "execute_result"
    }
   ],
   "source": [
    "tupla = tuple(['foo', [1,2], True])\n",
    "tupla"
   ]
  },
  {
   "cell_type": "code",
   "execution_count": 55,
   "metadata": {},
   "outputs": [
    {
     "ename": "TypeError",
     "evalue": "'tuple' object does not support item assignment",
     "output_type": "error",
     "traceback": [
      "\u001b[1;31m---------------------------------------------------------------------------\u001b[0m",
      "\u001b[1;31mTypeError\u001b[0m                                 Traceback (most recent call last)",
      "Cell \u001b[1;32mIn[55], line 2\u001b[0m\n\u001b[0;32m      1\u001b[0m \u001b[38;5;66;03m# da erro pois nao se pode mudar o valor da tupla\u001b[39;00m\n\u001b[1;32m----> 2\u001b[0m \u001b[43mtupla\u001b[49m\u001b[43m[\u001b[49m\u001b[38;5;241;43m2\u001b[39;49m\u001b[43m]\u001b[49m \u001b[38;5;241m=\u001b[39m \u001b[38;5;28;01mFalse\u001b[39;00m\n",
      "\u001b[1;31mTypeError\u001b[0m: 'tuple' object does not support item assignment"
     ]
    }
   ],
   "source": [
    "# da erro pois nao se pode mudar o valor da tupla\n",
    "tupla[2] = False"
   ]
  },
  {
   "cell_type": "code",
   "execution_count": 22,
   "metadata": {},
   "outputs": [
    {
     "data": {
      "text/plain": [
       "('foo', [1, 2, 3], True)"
      ]
     },
     "execution_count": 22,
     "metadata": {},
     "output_type": "execute_result"
    }
   ],
   "source": [
    "tupla[1].append(3)\n",
    "tupla"
   ]
  },
  {
   "cell_type": "code",
   "execution_count": 23,
   "metadata": {},
   "outputs": [
    {
     "data": {
      "text/plain": [
       "('foo', [1, 2, 3, 25], True)"
      ]
     },
     "execution_count": 23,
     "metadata": {},
     "output_type": "execute_result"
    }
   ],
   "source": [
    "tupla[1].append(25)\n",
    "tupla"
   ]
  },
  {
   "cell_type": "code",
   "execution_count": 24,
   "metadata": {},
   "outputs": [
    {
     "data": {
      "text/plain": [
       "('foo', [1, 2], 'amanha', True)"
      ]
     },
     "execution_count": 24,
     "metadata": {},
     "output_type": "execute_result"
    }
   ],
   "source": [
    "# modificando os dados, tranformando a tuple em lista e depois transformad novamente em tupla\n",
    "tupla = tuple(['foo', [1,2], True]) # tupla original\n",
    "lista = list(tupla) # tranforma a tupla em uma lista e jaga em uma variavel\n",
    "# insert - inserir os dados na lista, onde o primeiro termo deve ser a posicao\n",
    "lista.insert(2,'amanha') # adiciona dados na lista\n",
    "new_tupla = tuple(lista) # transforma a lista em tupla novamente\n",
    "\n",
    "new_tupla"
   ]
  },
  {
   "cell_type": "code",
   "execution_count": 25,
   "metadata": {},
   "outputs": [
    {
     "data": {
      "text/plain": [
       "('foo', [1, 2], 'hoje', True)"
      ]
     },
     "execution_count": 25,
     "metadata": {},
     "output_type": "execute_result"
    }
   ],
   "source": [
    "tupla = tuple(['foo', [1,2], True])\n",
    "lista = list(tupla)\n",
    "posicao_insercao = lista.index('foo') + 2\n",
    "lista.insert(posicao_insercao,'hoje')\n",
    "nova_tupla = tuple(lista)\n",
    "\n",
    "nova_tupla"
   ]
  },
  {
   "cell_type": "code",
   "execution_count": 26,
   "metadata": {},
   "outputs": [
    {
     "data": {
      "text/plain": [
       "(4, None, 'foo', 6, 0, 'bar', 1)"
      ]
     },
     "execution_count": 26,
     "metadata": {},
     "output_type": "execute_result"
    }
   ],
   "source": [
    "(4, None, 'foo') + (6,0) + ('bar',1)"
   ]
  },
  {
   "cell_type": "code",
   "execution_count": 27,
   "metadata": {},
   "outputs": [
    {
     "data": {
      "text/plain": [
       "('fui', 'pro', 'bar', 'fui', 'pro', 'bar', 'fui', 'pro', 'bar')"
      ]
     },
     "execution_count": 27,
     "metadata": {},
     "output_type": "execute_result"
    }
   ],
   "source": [
    "('fui','pro', 'bar')*3"
   ]
  },
  {
   "cell_type": "code",
   "execution_count": 28,
   "metadata": {},
   "outputs": [
    {
     "data": {
      "text/plain": [
       "(4, 8, 12, 3, 6.5, 9.9)"
      ]
     },
     "execution_count": 28,
     "metadata": {},
     "output_type": "execute_result"
    }
   ],
   "source": [
    "(4,8,12) +(3,6.5,9.9)"
   ]
  },
  {
   "cell_type": "code",
   "execution_count": 29,
   "metadata": {},
   "outputs": [
    {
     "name": "stdout",
     "output_type": "stream",
     "text": [
      "8\n",
      "16\n",
      "24\n"
     ]
    }
   ],
   "source": [
    "tupla = (4,8,12)\n",
    "\n",
    "for num in tupla:\n",
    "    new_num = num *2\n",
    "    print(new_num)"
   ]
  },
  {
   "cell_type": "code",
   "execution_count": 30,
   "metadata": {},
   "outputs": [
    {
     "data": {
      "text/plain": [
       "(8, 16, 24)"
      ]
     },
     "execution_count": 30,
     "metadata": {},
     "output_type": "execute_result"
    }
   ],
   "source": [
    "tupla = (4,8,12)\n",
    "new_tupla = []\n",
    "\n",
    "for num in tupla:\n",
    "    new_num = num * 2\n",
    "    new_tupla.append(new_num)\n",
    "\n",
    "new_tupla = tuple(new_tupla)\n",
    "new_tupla"
   ]
  },
  {
   "cell_type": "code",
   "execution_count": 31,
   "metadata": {},
   "outputs": [
    {
     "data": {
      "text/plain": [
       "(4, 5, (6, 7))"
      ]
     },
     "execution_count": 31,
     "metadata": {},
     "output_type": "execute_result"
    }
   ],
   "source": [
    "tupla = (4,5,6)\n",
    "a,b,c = tupla\n",
    "tupla = 4,5, (6,7)\n",
    "a,b, (c,d ) = tupla\n",
    "\n",
    "tupla"
   ]
  },
  {
   "cell_type": "code",
   "execution_count": 32,
   "metadata": {},
   "outputs": [
    {
     "data": {
      "text/plain": [
       "(2, 1)"
      ]
     },
     "execution_count": 32,
     "metadata": {},
     "output_type": "execute_result"
    }
   ],
   "source": [
    "a,b = 1,2\n",
    "b,a = a,b\n",
    "a,b\n"
   ]
  },
  {
   "cell_type": "code",
   "execution_count": 33,
   "metadata": {},
   "outputs": [
    {
     "name": "stdout",
     "output_type": "stream",
     "text": [
      "depois da troca o a= 5, e o b= 10\n"
     ]
    }
   ],
   "source": [
    "a = 10\n",
    "b= 5\n",
    "\n",
    "temp = a\n",
    "a = b\n",
    "b= temp\n",
    "\n",
    "print(f\"depois da troca o a= {a}, e o b= {b}\")\n"
   ]
  },
  {
   "cell_type": "code",
   "execution_count": 34,
   "metadata": {},
   "outputs": [
    {
     "data": {
      "text/plain": [
       "['agua', 'fogo', 'terra', 'ar']"
      ]
     },
     "execution_count": 34,
     "metadata": {},
     "output_type": "execute_result"
    }
   ],
   "source": [
    "b_list = ['agua', 'fogo', 'terra']\n",
    "b_list.append(\"ar\")\n",
    "b_list"
   ]
  },
  {
   "cell_type": "code",
   "execution_count": 35,
   "metadata": {},
   "outputs": [
    {
     "data": {
      "text/plain": [
       "['agua', 'eter', 'fogo', 'terra', 'ar']"
      ]
     },
     "execution_count": 35,
     "metadata": {},
     "output_type": "execute_result"
    }
   ],
   "source": [
    "b_list.insert(1,'eter')\n",
    "b_list"
   ]
  },
  {
   "cell_type": "code",
   "execution_count": 36,
   "metadata": {},
   "outputs": [
    {
     "data": {
      "text/plain": [
       "['agua', 'eter', 'terra', 'ar']"
      ]
     },
     "execution_count": 36,
     "metadata": {},
     "output_type": "execute_result"
    }
   ],
   "source": [
    "b_list.remove('fogo')\n",
    "b_list"
   ]
  },
  {
   "cell_type": "code",
   "execution_count": 37,
   "metadata": {},
   "outputs": [
    {
     "data": {
      "text/plain": [
       "[4, None, 'foo', 7, 8, (2, 3)]"
      ]
     },
     "execution_count": 37,
     "metadata": {},
     "output_type": "execute_result"
    }
   ],
   "source": [
    "[4, None, 'foo'] + [7,8, (2,3)]"
   ]
  },
  {
   "cell_type": "code",
   "execution_count": 38,
   "metadata": {},
   "outputs": [
    {
     "data": {
      "text/plain": [
       "[4, None, 'foo', 7, 8, (2, 3)]"
      ]
     },
     "execution_count": 38,
     "metadata": {},
     "output_type": "execute_result"
    }
   ],
   "source": [
    "x = [4,None, 'foo']\n",
    "# extend - concatena de um modo mais facil, juntando uma variavel que ja esta com a truple e o a outra trupe\n",
    "x.extend([7,8,(2,3)])\n",
    "x"
   ]
  },
  {
   "cell_type": "code",
   "execution_count": 39,
   "metadata": {},
   "outputs": [
    {
     "data": {
      "text/plain": [
       "[1, 2, 3, 4, 5, 6, 7, 8, 9]"
      ]
     },
     "execution_count": 39,
     "metadata": {},
     "output_type": "execute_result"
    }
   ],
   "source": [
    "lista_da_lista = [[1,2,3], [4,5,6],[7,8,9]]\n",
    "all = []\n",
    "\n",
    "for pedaco in lista_da_lista:\n",
    "    all.extend(pedaco)\n",
    "all"
   ]
  },
  {
   "cell_type": "code",
   "execution_count": 40,
   "metadata": {},
   "outputs": [
    {
     "data": {
      "text/plain": [
       "[1, 2, 3, 4, 5, 6, 7, 8, 9]"
      ]
     },
     "execution_count": 40,
     "metadata": {},
     "output_type": "execute_result"
    }
   ],
   "source": [
    "all=[]\n",
    "for pedaco in lista_da_lista:\n",
    "    all += pedaco\n",
    "\n",
    "all"
   ]
  },
  {
   "cell_type": "code",
   "execution_count": 41,
   "metadata": {},
   "outputs": [
    {
     "data": {
      "text/plain": [
       "[7, 2, 3, 5, 1, 3]"
      ]
     },
     "execution_count": 41,
     "metadata": {},
     "output_type": "execute_result"
    }
   ],
   "source": [
    "a = [7,2,3,5,1,3]\n",
    "a"
   ]
  },
  {
   "cell_type": "code",
   "execution_count": 42,
   "metadata": {},
   "outputs": [
    {
     "data": {
      "text/plain": [
       "[1, 2, 3, 3, 5, 7]"
      ]
     },
     "execution_count": 42,
     "metadata": {},
     "output_type": "execute_result"
    }
   ],
   "source": [
    "# sort - ordena uma lista \n",
    "a.sort()\n",
    "a"
   ]
  },
  {
   "cell_type": "code",
   "execution_count": 43,
   "metadata": {},
   "outputs": [
    {
     "data": {
      "text/plain": [
       "['saw', 'small', 'he', 'foxs', 'six']"
      ]
     },
     "execution_count": 43,
     "metadata": {},
     "output_type": "execute_result"
    }
   ],
   "source": [
    "b = ['saw', 'small', 'he', 'foxs', 'six']\n",
    "b"
   ]
  },
  {
   "cell_type": "code",
   "execution_count": 44,
   "metadata": {},
   "outputs": [
    {
     "data": {
      "text/plain": [
       "['he', 'saw', 'six', 'foxs', 'small']"
      ]
     },
     "execution_count": 44,
     "metadata": {},
     "output_type": "execute_result"
    }
   ],
   "source": [
    "# key - por onde ordenar,mostra como queremos que ordene algo\n",
    "b.sort(key=len)\n",
    "b"
   ]
  },
  {
   "cell_type": "code",
   "execution_count": 45,
   "metadata": {},
   "outputs": [
    {
     "data": {
      "text/plain": [
       "[5, 15, 8, 164]"
      ]
     },
     "execution_count": 45,
     "metadata": {},
     "output_type": "execute_result"
    }
   ],
   "source": [
    "sequen= [5,15,8,164,167,152,75,45,5,7,9,2,5,68,4]\n",
    "# sequen[1:6] de um lugar ao outro\n",
    "# sequen[3:4] de um lugar ate o outro\n",
    "# sequen[:5] ate o quinto termo\n",
    "# sequen[3:] do termo a diante\n",
    "# sequen[-4:] quero os utimos 4 termos\n",
    "sequen[:4]"
   ]
  },
  {
   "cell_type": "code",
   "execution_count": 46,
   "metadata": {},
   "outputs": [
    {
     "data": {
      "text/plain": [
       "[5, 164, 75, 7, 5]"
      ]
     },
     "execution_count": 46,
     "metadata": {},
     "output_type": "execute_result"
    }
   ],
   "source": [
    "sequen= [5,15,8,164,167,152,75,45,5,7,9,2,5,68,4]\n",
    "# sequen[::2] vai pulando casas, e comeca a contar do termo atual\n",
    "sequen[::3]"
   ]
  },
  {
   "cell_type": "markdown",
   "metadata": {},
   "source": [
    "1. Crie uma tupla chamada frutas com os seguintes elementos: 'maçã', 'banana', 'laranja', 'uva'.\n",
    "2. Acesse o segundo elemento da tupla frutas.\n",
    "3. Substitua o terceiro elemento da tupla frutas por 'manga' e armazene a tupla modificada em uma nova variável chamada frutas_modificadas.\n",
    "4. Concatene a tupla frutas_modificadas com a tupla ('abacaxi', 'limão') e armazene o resultado em uma nova tupla chamada frutas_concatenadas.\n",
    "5. Verifique se o elemento 'uva' está presente na tupla frutas_concatenadas.\n",
    "6. Descubra o índice do elemento 'banana' na tupla frutas_concatenadas.\n",
    "7. Conte quantas vezes o elemento 'uva' aparece na tupla frutas_concatenadas.\n",
    "8. Crie uma tupla chamada numeros com os números de 1 a 5.\n",
    "9. Multiplique cada elemento da tupla numeros por 2 e armazene o resultado em uma nova tupla chamada numeros_dobrados.\n"
   ]
  },
  {
   "cell_type": "code",
   "execution_count": 47,
   "metadata": {},
   "outputs": [
    {
     "data": {
      "text/plain": [
       "'banana'"
      ]
     },
     "execution_count": 47,
     "metadata": {},
     "output_type": "execute_result"
    }
   ],
   "source": [
    "frutas = ('maçã', 'banana', 'laranja', 'uva')\n",
    "frutas[1]"
   ]
  },
  {
   "cell_type": "code",
   "execution_count": 48,
   "metadata": {},
   "outputs": [
    {
     "data": {
      "text/plain": [
       "('maçã', 'banana', 'manga', 'uva')"
      ]
     },
     "execution_count": 48,
     "metadata": {},
     "output_type": "execute_result"
    }
   ],
   "source": [
    "\n",
    "frutas = ('maçã', 'banana', 'laranja', 'uva')\n",
    "lista = list(frutas)\n",
    "lista.insert(2,'manga') \n",
    "lista.remove('laranja')\n",
    "fruta_modificadas = tuple(lista) \n",
    "\n",
    "fruta_modificadas"
   ]
  },
  {
   "cell_type": "code",
   "execution_count": 49,
   "metadata": {},
   "outputs": [
    {
     "data": {
      "text/plain": [
       "('maçã', 'banana', 'manga', 'uva', 'abacaxi', 'limão')"
      ]
     },
     "execution_count": 49,
     "metadata": {},
     "output_type": "execute_result"
    }
   ],
   "source": [
    "frutas_concatenadas = fruta_modificadas + ('abacaxi', 'limão')\n",
    "frutas_concatenadas"
   ]
  },
  {
   "cell_type": "code",
   "execution_count": 50,
   "metadata": {},
   "outputs": [
    {
     "name": "stdout",
     "output_type": "stream",
     "text": [
      "tem uva na bagaça\n"
     ]
    }
   ],
   "source": [
    "for i in frutas_concatenadas:\n",
    "    if i == 'uva':\n",
    "        print('tem uva na bagaça')\n",
    "    else:\n",
    "        pass"
   ]
  },
  {
   "cell_type": "code",
   "execution_count": 51,
   "metadata": {},
   "outputs": [
    {
     "data": {
      "text/plain": [
       "1"
      ]
     },
     "execution_count": 51,
     "metadata": {},
     "output_type": "execute_result"
    }
   ],
   "source": [
    "frutas_concatenadas.count('uva')"
   ]
  },
  {
   "cell_type": "code",
   "execution_count": 52,
   "metadata": {},
   "outputs": [
    {
     "data": {
      "text/plain": [
       "1"
      ]
     },
     "execution_count": 52,
     "metadata": {},
     "output_type": "execute_result"
    }
   ],
   "source": [
    "frutas_concatenadas.index('banana')"
   ]
  },
  {
   "cell_type": "code",
   "execution_count": 53,
   "metadata": {},
   "outputs": [],
   "source": [
    "numeros = (1,2,3,4,5)"
   ]
  },
  {
   "cell_type": "code",
   "execution_count": 54,
   "metadata": {},
   "outputs": [
    {
     "name": "stdout",
     "output_type": "stream",
     "text": [
      "2\n",
      "4\n",
      "6\n",
      "8\n",
      "10\n"
     ]
    },
    {
     "data": {
      "text/plain": [
       "[2, 4, 6, 8, 10]"
      ]
     },
     "execution_count": 54,
     "metadata": {},
     "output_type": "execute_result"
    }
   ],
   "source": [
    "numeros = (1,2,3,4,5)\n",
    "numeros_dobrados = []\n",
    "\n",
    "for num in numeros:\n",
    "    valor = num * 2\n",
    "    numeros_dobrados.append(valor)\n",
    "    print(valor)\n",
    "\n",
    "numeros_dobrados"
   ]
  }
 ],
 "metadata": {
  "kernelspec": {
   "display_name": "Python 3",
   "language": "python",
   "name": "python3"
  },
  "language_info": {
   "codemirror_mode": {
    "name": "ipython",
    "version": 3
   },
   "file_extension": ".py",
   "mimetype": "text/x-python",
   "name": "python",
   "nbconvert_exporter": "python",
   "pygments_lexer": "ipython3",
   "version": "3.11.8"
  }
 },
 "nbformat": 4,
 "nbformat_minor": 2
}
